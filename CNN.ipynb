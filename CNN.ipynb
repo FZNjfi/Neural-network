{
 "cells": [
  {
   "cell_type": "code",
   "execution_count": 5,
   "id": "7ea6d798-cfdb-41e4-98c6-746e6abc0e65",
   "metadata": {},
   "outputs": [
    {
     "name": "stdout",
     "output_type": "stream",
     "text": [
      "Requirement already satisfied: torch in c:\\programdata\\anaconda3\\lib\\site-packages (2.7.0)\n",
      "Requirement already satisfied: torchvision in c:\\programdata\\anaconda3\\lib\\site-packages (0.22.0)\n",
      "Requirement already satisfied: filelock in c:\\programdata\\anaconda3\\lib\\site-packages (from torch) (3.13.1)\n",
      "Requirement already satisfied: typing-extensions>=4.10.0 in c:\\programdata\\anaconda3\\lib\\site-packages (from torch) (4.11.0)\n",
      "Requirement already satisfied: sympy>=1.13.3 in c:\\programdata\\anaconda3\\lib\\site-packages (from torch) (1.14.0)\n",
      "Requirement already satisfied: networkx in c:\\programdata\\anaconda3\\lib\\site-packages (from torch) (3.2.1)\n",
      "Requirement already satisfied: jinja2 in c:\\programdata\\anaconda3\\lib\\site-packages (from torch) (3.1.4)\n",
      "Requirement already satisfied: fsspec in c:\\programdata\\anaconda3\\lib\\site-packages (from torch) (2024.3.1)\n",
      "Requirement already satisfied: setuptools in c:\\programdata\\anaconda3\\lib\\site-packages (from torch) (69.5.1)\n",
      "Requirement already satisfied: numpy in c:\\programdata\\anaconda3\\lib\\site-packages (from torchvision) (1.26.4)\n",
      "Requirement already satisfied: pillow!=8.3.*,>=5.3.0 in c:\\programdata\\anaconda3\\lib\\site-packages (from torchvision) (10.3.0)\n",
      "Requirement already satisfied: mpmath<1.4,>=1.1.0 in c:\\programdata\\anaconda3\\lib\\site-packages (from sympy>=1.13.3->torch) (1.3.0)\n",
      "Requirement already satisfied: MarkupSafe>=2.0 in c:\\programdata\\anaconda3\\lib\\site-packages (from jinja2->torch) (2.1.3)\n",
      "Note: you may need to restart the kernel to use updated packages.\n"
     ]
    }
   ],
   "source": [
    "pip install torch torchvision"
   ]
  },
  {
   "cell_type": "code",
   "execution_count": 1,
   "id": "ec379166-f01b-4e22-b385-025bf934320e",
   "metadata": {},
   "outputs": [],
   "source": [
    "import torch\n",
    "import torchvision\n",
    "import torchvision.transforms as transforms\n",
    "import torch.nn as nn\n",
    "import torch.nn.functional as F\n",
    "import torch.optim as optim"
   ]
  },
  {
   "cell_type": "code",
   "execution_count": 3,
   "id": "e605f258-9c0b-4ef1-b760-c604bdd20e49",
   "metadata": {},
   "outputs": [
    {
     "name": "stderr",
     "output_type": "stream",
     "text": [
      "100%|███████████████████████████████████████████████████████████████████████████████| 170M/170M [02:10<00:00, 1.31MB/s]\n",
      "100%|███████████████████████████████████████████████████████████████████████████████| 170M/170M [01:42<00:00, 1.67MB/s]\n"
     ]
    }
   ],
   "source": [
    "# تبدیل داده‌ها به تانسور و نرمال‌سازی\n",
    "transform = transforms.Compose([\n",
    "    transforms.ToTensor(),\n",
    "    transforms.Normalize((0.5, 0.5, 0.5), (0.5, 0.5, 0.5))\n",
    "])\n",
    "\n",
    "# دانلود و بارگذاری داده‌های آموزشی و تست\n",
    "trainset = torchvision.datasets.CIFAR10(root=\"D:\\\\_frzna_\\\\Projects\\\\PycharmProjects\\\\CNN\\\\cifar-10-batches-py\", train=True, download=True, transform=transform)\n",
    "trainloader = torch.utils.data.DataLoader(trainset, batch_size=64, shuffle=True)\n",
    "\n",
    "testset = torchvision.datasets.CIFAR10(root='./data', train=False, download=True, transform=transform)\n",
    "testloader = torch.utils.data.DataLoader(testset, batch_size=64, shuffle=False)"
   ]
  },
  {
   "cell_type": "code",
   "execution_count": 5,
   "id": "5e773fd1-bf8b-46ce-9920-05632431b1a9",
   "metadata": {},
   "outputs": [],
   "source": [
    "class CNN(nn.Module):\n",
    "    def __init__(self):\n",
    "        super(CNN, self).__init__()\n",
    "        # لایه کانولوشن اول\n",
    "        self.conv1 = nn.Conv2d(3, 32, 3)  # ورودی 3 کانال (RGB)، 32 فیلتر، کرنل 3x3\n",
    "        self.pool = nn.MaxPool2d(2, 2)  # Max Pooling با اندازه 2x2\n",
    "\n",
    "        # لایه کانولوشن دوم\n",
    "        self.conv2 = nn.Conv2d(32, 64, 3)  # ورودی 32، خروجی 64 فیلتر\n",
    "\n",
    "        # لایه‌های Fully Connected\n",
    "        self.fc1 = nn.Linear(64 * 6 * 6, 128)  # بعد از دو لایه Pooling، ابعاد 6x6 می‌شود\n",
    "        self.fc2 = nn.Linear(128, 10)  # خروجی 10 نورون (10 کلاس)\n",
    "\n",
    "    def forward(self, x):\n",
    "        x = self.pool(F.relu(self.conv1(x)))  # Conv1 → ReLU → Pooling\n",
    "        x = self.pool(F.relu(self.conv2(x)))  # Conv2 → ReLU → Pooling\n",
    "        x = torch.flatten(x, 1)  # Flatten\n",
    "        x = F.relu(self.fc1(x))  # FC1 → ReLU\n",
    "        x = self.fc2(x)  # FC2 (خروجی)\n",
    "        return x"
   ]
  },
  {
   "cell_type": "code",
   "execution_count": 11,
   "id": "6c6560ae-4f7b-4293-ba94-a827c9864918",
   "metadata": {},
   "outputs": [
    {
     "name": "stdout",
     "output_type": "stream",
     "text": [
      "Epoch 1, Loss: 1.412473019126736\n",
      "Epoch 2, Loss: 1.0414021530419664\n",
      "Epoch 3, Loss: 0.8871514912304062\n",
      "Epoch 4, Loss: 0.7716826744320447\n",
      "Epoch 5, Loss: 0.6751528580094237\n",
      "Epoch 6, Loss: 0.592101705539257\n",
      "Epoch 7, Loss: 0.5118970723293931\n",
      "Epoch 8, Loss: 0.44109894948847156\n",
      "Epoch 9, Loss: 0.3722288070241814\n",
      "Epoch 10, Loss: 0.3221115250607281\n",
      "Test Accuracy: 71.79% in 10000 images\n"
     ]
    }
   ],
   "source": [
    "model = CNN()\n",
    "\n",
    "criterion = nn.CrossEntropyLoss()  # برای طبقه‌بندی چندکلاسه\n",
    "optimizer = optim.Adam(model.parameters(), lr=0.001)\n",
    "\n",
    "for epoch in range(10):  # 10 دوره آموزش\n",
    "    running_loss = 0.0\n",
    "    for i, data in enumerate(trainloader, 0):\n",
    "        inputs, labels = data\n",
    "\n",
    "        optimizer.zero_grad()  # پاک کردن گرادیان‌های قبلی\n",
    "\n",
    "        outputs = model(inputs)  # پیش‌بینی مدل\n",
    "        loss = criterion(outputs, labels)  # محاسبه خطا\n",
    "        loss.backward()  # انتشار معکوس\n",
    "        optimizer.step()  # به‌روزرسانی وزن‌ها\n",
    "\n",
    "        running_loss += loss.item()\n",
    "\n",
    "    print(f'Epoch {epoch + 1}, Loss: {running_loss / len(trainloader)}')\n",
    "\n",
    "correct = 0\n",
    "total = 0\n",
    "with torch.no_grad():\n",
    "    for data in testloader:\n",
    "        images, labels = data\n",
    "        outputs = model(images)\n",
    "        _, predicted = torch.max(outputs.data, 1)\n",
    "        total += labels.size(0)\n",
    "        correct += (predicted == labels).sum().item()\n",
    "\n",
    "print(f'Test Accuracy: {100 * correct / total}% in {total} images')"
   ]
  }
 ],
 "metadata": {
  "kernelspec": {
   "display_name": "Python 3 (ipykernel)",
   "language": "python",
   "name": "python3"
  },
  "language_info": {
   "codemirror_mode": {
    "name": "ipython",
    "version": 3
   },
   "file_extension": ".py",
   "mimetype": "text/x-python",
   "name": "python",
   "nbconvert_exporter": "python",
   "pygments_lexer": "ipython3",
   "version": "3.12.4"
  }
 },
 "nbformat": 4,
 "nbformat_minor": 5
}
