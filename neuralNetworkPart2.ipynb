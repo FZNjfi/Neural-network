{
 "cells": [
  {
   "cell_type": "code",
   "execution_count": 122,
   "metadata": {
    "collapsed": false,
    "jupyter": {
     "outputs_hidden": false
    },
    "pycharm": {
     "is_executing": true,
     "name": "#%%\n"
    }
   },
   "outputs": [],
   "source": [
    "import numpy as np\n",
    "import matplotlib.pyplot as plt\n",
    "import pandas as pd\n",
    "import seaborn as sns\n",
    "from scipy.stats import zscore\n",
    "from sklearn.model_selection import train_test_split"
   ]
  },
  {
   "cell_type": "code",
   "execution_count": 123,
   "metadata": {
    "collapsed": false,
    "jupyter": {
     "outputs_hidden": false
    },
    "pycharm": {
     "name": "#%%\n"
    }
   },
   "outputs": [
    {
     "name": "stdout",
     "output_type": "stream",
     "text": [
      "            pixel_0      pixel_1       pixel_2       pixel_3       pixel_4  \\\n",
      "count  50000.000000  50000.00000  50000.000000  50000.000000  50000.000000   \n",
      "mean     130.710740    130.14036    131.050440    131.568860    132.184700   \n",
      "std       73.412873     72.44259     72.240546     72.016555     71.714551   \n",
      "min        0.000000      0.00000      0.000000      0.000000      0.000000   \n",
      "25%       71.000000     71.00000     73.000000     73.000000     75.000000   \n",
      "50%      128.000000    127.00000    129.000000    130.000000    130.000000   \n",
      "75%      189.000000    188.00000    188.000000    188.000000    189.000000   \n",
      "max      255.000000    255.00000    255.000000    255.000000    255.000000   \n",
      "\n",
      "            pixel_5       pixel_6       pixel_7       pixel_8      pixel_9  \\\n",
      "count  50000.000000  50000.000000  50000.000000  50000.000000  50000.00000   \n",
      "mean     132.851840    133.371540    133.890920    134.485040    134.93260   \n",
      "std       71.537505     71.353558     71.281237     71.071698     71.03647   \n",
      "min        0.000000      0.000000      0.000000      0.000000      0.00000   \n",
      "25%       75.000000     76.000000     76.750000     78.000000     78.00000   \n",
      "50%      131.000000    132.000000    132.000000    133.000000    134.00000   \n",
      "75%      190.000000    190.000000    191.000000    191.000000    192.00000   \n",
      "max      255.000000    255.000000    255.000000    255.000000    255.00000   \n",
      "\n",
      "       ...    pixel_3063    pixel_3064    pixel_3065    pixel_3066  \\\n",
      "count  ...  50000.000000  50000.000000  50000.000000  50000.000000   \n",
      "mean   ...    113.716260    113.735320    113.778520    113.813200   \n",
      "std    ...     64.345623     64.431996     64.401897     64.502684   \n",
      "min    ...      0.000000      0.000000      0.000000      0.000000   \n",
      "25%    ...     64.000000     64.000000     64.000000     64.000000   \n",
      "50%    ...    106.000000    106.000000    106.000000    106.000000   \n",
      "75%    ...    157.000000    157.000000    157.000000    157.000000   \n",
      "max    ...    255.000000    255.000000    255.000000    255.000000   \n",
      "\n",
      "         pixel_3067    pixel_3068    pixel_3069    pixel_3070    pixel_3071  \\\n",
      "count  50000.000000  50000.000000  50000.000000  50000.000000  50000.000000   \n",
      "mean     113.864120    113.877800    113.830580    113.906240    114.381860   \n",
      "std       64.511269     64.738943     64.894603     65.212671     66.077526   \n",
      "min        0.000000      0.000000      0.000000      0.000000      0.000000   \n",
      "25%       64.000000     64.000000     64.000000     64.000000     63.000000   \n",
      "50%      106.000000    106.000000    106.000000    106.000000    106.000000   \n",
      "75%      157.000000    157.000000    157.000000    157.000000    158.000000   \n",
      "max      255.000000    255.000000    255.000000    255.000000    255.000000   \n",
      "\n",
      "             label  \n",
      "count  50000.00000  \n",
      "mean       4.50000  \n",
      "std        2.87231  \n",
      "min        0.00000  \n",
      "25%        2.00000  \n",
      "50%        4.50000  \n",
      "75%        7.00000  \n",
      "max        9.00000  \n",
      "\n",
      "[8 rows x 3073 columns] \n",
      "\n"
     ]
    }
   ],
   "source": [
    "try:\n",
    "        data = pd.read_csv(\"train.csv\")\n",
    "        print(data.describe(),\"\\n\")\n",
    "except Exception as e:\n",
    "        print(\"Error! data not  found.\")"
   ]
  },
  {
   "cell_type": "code",
   "execution_count": 124,
   "metadata": {
    "pycharm": {
     "is_executing": true,
     "name": "#%%\n"
    }
   },
   "outputs": [],
   "source": [
    "# try:\n",
    "#         test = pd.read_csv(\"test.csv\")\n",
    "#         print(test.describe(),\"\\n\")\n",
    "# except Exception as e:\n",
    "#         print(\"Error! data not  found.\")"
   ]
  },
  {
   "cell_type": "code",
   "execution_count": 125,
   "metadata": {
    "collapsed": false,
    "jupyter": {
     "outputs_hidden": false
    },
    "pycharm": {
     "name": "#%%\n"
    }
   },
   "outputs": [
    {
     "data": {
      "text/plain": [
       "0        6\n",
       "1        9\n",
       "2        9\n",
       "3        4\n",
       "4        1\n",
       "        ..\n",
       "49995    2\n",
       "49996    6\n",
       "49997    9\n",
       "49998    1\n",
       "49999    1\n",
       "Name: label, Length: 50000, dtype: int64"
      ]
     },
     "execution_count": 125,
     "metadata": {},
     "output_type": "execute_result"
    }
   ],
   "source": [
    "X = data.drop(columns=['label'])\n",
    "y = data['label']\n",
    "y"
   ]
  },
  {
   "cell_type": "code",
   "execution_count": 126,
   "metadata": {
    "collapsed": false,
    "jupyter": {
     "outputs_hidden": false
    },
    "pycharm": {
     "name": "#%%\n"
    }
   },
   "outputs": [],
   "source": [
    "def check_missing_values():\n",
    "    missing = X.isnull().sum()\n",
    "    missing = missing[missing > 0]\n",
    "    if not missing.empty:\n",
    "        print(missing)\n",
    "    else:\n",
    "        print(\"\\n No Missing Data \\n\")\n",
    "\n",
    "def detect_outliers(z_thresh=3.29):\n",
    "    for col in X.columns:\n",
    "        if pd.api.types.is_numeric_dtype(X[col]):\n",
    "            z_scores = zscore(X[col])\n",
    "            outliers = (abs(z_scores) > z_thresh)\n",
    "            num_outliers = outliers.sum()\n",
    "            # rint(f\"col '{col}': {num_outliers} outlier found.\")\n",
    "            #filtered_data = data[np.abs(z_scores) <= z_thresh]\n",
    "def normal(X):\n",
    "    return X.reshape(X.shape[0], -1).astype(np.float32) / 255.0\n",
    "\n",
    "def plot_distributions():\n",
    "    for col in X_train.columns:\n",
    "        if pd.api.types.is_numeric_dtype(X_train[col]):\n",
    "            plt.figure(figsize=(6,4))\n",
    "            sns.histplot(X_train[col], kde=True)\n",
    "            plt.title(f\"Distribution of {col}\")\n",
    "            plt.show()\n",
    "        else:\n",
    "          print(\"\\n\",col, \"is not numeric\")"
   ]
  },
  {
   "cell_type": "code",
   "execution_count": 127,
   "metadata": {
    "collapsed": false,
    "jupyter": {
     "outputs_hidden": false
    },
    "pycharm": {
     "name": "#%%\n"
    }
   },
   "outputs": [
    {
     "name": "stdout",
     "output_type": "stream",
     "text": [
      "\n",
      " No Missing Data \n",
      "\n"
     ]
    }
   ],
   "source": [
    "check_missing_values()\n",
    "detect_outliers()"
   ]
  },
  {
   "cell_type": "code",
   "execution_count": 128,
   "metadata": {
    "pycharm": {
     "name": "#%%\n"
    }
   },
   "outputs": [
    {
     "name": "stdout",
     "output_type": "stream",
     "text": [
      "[0 0 0 ... 0 0 0]\n"
     ]
    }
   ],
   "source": [
    "y = np.where(data['label'] == 0, 1, 0)\n",
    "print(y)"
   ]
  },
  {
   "cell_type": "code",
   "execution_count": 129,
   "metadata": {
    "collapsed": false,
    "jupyter": {
     "outputs_hidden": false
    },
    "pycharm": {
     "name": "#%%\n"
    }
   },
   "outputs": [
    {
     "data": {
      "text/plain": [
       "array([[0.23137255, 0.16862746, 0.19607843, ..., 0.54901963, 0.32941177,\n",
       "        0.28235295],\n",
       "       [0.6039216 , 0.49411765, 0.4117647 , ..., 0.54509807, 0.5568628 ,\n",
       "        0.5647059 ],\n",
       "       [1.        , 0.99215686, 0.99215686, ..., 0.3254902 , 0.3254902 ,\n",
       "        0.32941177],\n",
       "       ...,\n",
       "       [0.13725491, 0.15686275, 0.16470589, ..., 0.3019608 , 0.25882354,\n",
       "        0.19607843],\n",
       "       [0.7411765 , 0.7294118 , 0.7254902 , ..., 0.6627451 , 0.67058825,\n",
       "        0.67058825],\n",
       "       [0.8980392 , 0.9254902 , 0.91764706, ..., 0.6784314 , 0.63529414,\n",
       "        0.6313726 ]], dtype=float32)"
      ]
     },
     "execution_count": 129,
     "metadata": {},
     "output_type": "execute_result"
    }
   ],
   "source": [
    "X = X.to_numpy().reshape(X.shape[0], -1)\n",
    "#y = y.to_numpy()\n",
    "X = normal(X)\n",
    "X"
   ]
  },
  {
   "cell_type": "code",
   "execution_count": 130,
   "metadata": {
    "collapsed": false,
    "jupyter": {
     "outputs_hidden": false
    },
    "pycharm": {
     "name": "#%%\n"
    }
   },
   "outputs": [
    {
     "name": "stdout",
     "output_type": "stream",
     "text": [
      "[[0.13333334 0.14509805 0.17254902 ... 0.19215687 0.1882353  0.22745098]\n",
      " [0.35686275 0.37254903 0.36078432 ... 0.2901961  0.4745098  0.5254902 ]\n",
      " [0.8156863  0.7764706  0.6431373  ... 0.6392157  0.64705884 0.6156863 ]\n",
      " ...\n",
      " [0.41960785 0.49803922 0.45882353 ... 0.13333334 0.13333334 0.13333334]\n",
      " [1.         1.         1.         ... 0.21960784 0.23137255 0.23921569]\n",
      " [0.73333335 0.77254903 0.78431374 ... 0.37254903 0.40392157 0.41568628]]\n"
     ]
    }
   ],
   "source": [
    "X_train, X_test,y_train,y_test = train_test_split(\n",
    "    X,y,\n",
    "    test_size=0.2,\n",
    "    random_state=42,\n",
    ")\n",
    "print(X_train)"
   ]
  },
  {
   "cell_type": "code",
   "execution_count": 131,
   "metadata": {
    "collapsed": false,
    "jupyter": {
     "outputs_hidden": false
    },
    "pycharm": {
     "name": "#%%\n"
    }
   },
   "outputs": [
    {
     "data": {
      "text/plain": [
       "(50000, 3072)"
      ]
     },
     "execution_count": 131,
     "metadata": {},
     "output_type": "execute_result"
    }
   ],
   "source": [
    "X.shape"
   ]
  },
  {
   "cell_type": "code",
   "execution_count": 132,
   "metadata": {
    "collapsed": false,
    "jupyter": {
     "outputs_hidden": false
    },
    "pycharm": {
     "name": "#%%\n"
    }
   },
   "outputs": [
    {
     "data": {
      "text/plain": [
       "(50000,)"
      ]
     },
     "execution_count": 132,
     "metadata": {},
     "output_type": "execute_result"
    }
   ],
   "source": [
    "y.shape"
   ]
  },
  {
   "cell_type": "code",
   "execution_count": 133,
   "metadata": {
    "collapsed": false,
    "jupyter": {
     "outputs_hidden": false
    },
    "pycharm": {
     "name": "#%%\n"
    }
   },
   "outputs": [
    {
     "name": "stdout",
     "output_type": "stream",
     "text": [
      "not airplain: 35973\n",
      "airplain: 4027\n"
     ]
    }
   ],
   "source": [
    "print(\"not airplain:\", np.sum(y_train == 0))\n",
    "print(\"airplain:\", np.sum(y_train == 1))"
   ]
  },
  {
   "cell_type": "code",
   "execution_count": 134,
   "metadata": {
    "collapsed": false,
    "jupyter": {
     "outputs_hidden": false
    },
    "pycharm": {
     "name": "#%%\n"
    }
   },
   "outputs": [],
   "source": [
    "#y = np.array(y).astype(np.float32)"
   ]
  },
  {
   "cell_type": "code",
   "execution_count": 135,
   "metadata": {},
   "outputs": [],
   "source": [
    "y_train = y_train.reshape(-1, 1)\n",
    "y_test = y_test.reshape(-1, 1)\n"
   ]
  },
  {
   "cell_type": "code",
   "execution_count": 39,
   "metadata": {
    "collapsed": false,
    "jupyter": {
     "outputs_hidden": false
    },
    "pycharm": {
     "name": "#%%\n"
    }
   },
   "outputs": [],
   "source": [
    "def sigmoid_activation_function(z):\n",
    "        return sigmoid(z) * (1 - sigmoid(z))"
   ]
  },
  {
   "cell_type": "code",
   "execution_count": 40,
   "metadata": {
    "collapsed": false,
    "jupyter": {
     "outputs_hidden": false
    },
    "pycharm": {
     "name": "#%%\n"
    }
   },
   "outputs": [],
   "source": [
    "def sigmoid(z):\n",
    "    return 1 / (1 + np.exp(-z))"
   ]
  },
  {
   "cell_type": "code",
   "execution_count": 52,
   "metadata": {
    "collapsed": false,
    "jupyter": {
     "outputs_hidden": false
    },
    "pycharm": {
     "name": "#%%\n"
    }
   },
   "outputs": [],
   "source": [
    "def binary_cross_entropy(y_true, y_pred):\n",
    "        bce = -np.mean(y_true * np.log(y_pred) + (1 - y_true) * np.log(1 - y_pred))\n",
    "        return bce"
   ]
  },
  {
   "cell_type": "code",
   "execution_count": 83,
   "metadata": {
    "collapsed": false,
    "jupyter": {
     "outputs_hidden": false
    },
    "pycharm": {
     "name": "#%%\n"
    }
   },
   "outputs": [],
   "source": [
    "def forward(X, W1, b1, W2, b2):\n",
    "    \n",
    "    z1 = np.dot(X, W1) + b1\n",
    "    A1 = sigmoid(z1)\n",
    "    \n",
    "    z2 = np.dot(A1, W2) + b2\n",
    "    A2 = sigmoid(z2)\n",
    "    A2 = A2.reshape(-1, 1)\n",
    "    \n",
    "    return z1, A1, z2, A2\n",
    "    \n",
    "def compute_loss(y_true, y_pred):\n",
    "        return binary_cross_entropy(y, y_pred)\n",
    "\n",
    "def backward(X, y, Z1, A1, Z2, A2, W1, W2, lr):\n",
    "    \n",
    "    m = X.shape[0]\n",
    "    dZ2 = A2 - y\n",
    "    dW2 = np.dot(A1.T, dZ2) / m\n",
    "    db2 = np.sum(dZ2, axis=0, keepdims=True) / m\n",
    "\n",
    "    dA1 = np.dot(dZ2, W2.T)\n",
    "    dZ1 = dA1 * A1 * (1 - A1)\n",
    "    dW1 = np.dot(X.T, dZ1) / m\n",
    "    db1 = np.sum(dZ1, axis=0, keepdims=True) / m\n",
    "\n",
    "    return dW1, db1, dW2, db2\n",
    "\n",
    "\n",
    "def update_parameters(W1, b1, W2, b2, dW1, db1, dW2, db2, lr):\n",
    "    W1 -= lr * dW1\n",
    "    b1 -= lr * db1\n",
    "    W2 -= lr * dW2\n",
    "    b2 -= lr * db2\n",
    "    return W1, b1, W2, b2\n",
    "\n",
    "    return W1, b1, W2, b2\n",
    "def params(input_dim, hidden_dim = 64, output_dim=1):\n",
    "    W1 = np.random.randn(input_dim, hidden_dim) * np.sqrt(2./input_dim)\n",
    "    b1 = np.zeros((1, hidden_dim))\n",
    "    W2 = np.random.randn(hidden_dim, 1) * np.sqrt(1./hidden_dim)\n",
    "    b2 = np.zeros((1, 1))\n",
    "    return W1, b1, W2, b2\n",
    "\n",
    "\n",
    "def train(X, y, X_test, y_test, epochs=100, lr=0.1, hidden_dim=64):\n",
    "    input_dim = X_train.shape[1]\n",
    "    W1, b1, W2, b2 = params(input_dim, hidden_dim)\n",
    "    \n",
    "    history = {\n",
    "        'train_loss': [],\n",
    "        'test_loss': [],\n",
    "        'accuracy': []\n",
    "    }\n",
    "    \n",
    "    for epoch in range(epochs):\n",
    "        # Forward pass (train)\n",
    "        Z1, A1, Z2, A2 = forward(X_train, W1, b1, W2, b2)\n",
    "        train_loss = binary_cross_entropy(y_train, A2)\n",
    "        \n",
    "        # Backward pass\n",
    "        dW1, db1, dW2, db2 = backward(X_train, y_train, Z1, A1, Z2, A2, W1, W2, lr)\n",
    "        W1, b1, W2, b2 = update_parameters(W1, b1, W2, b2, dW1, db1, dW2, db2, lr)\n",
    "        # # Evaluation on test set\n",
    "        # #y_pred_test = forward(X_test, y_test, W, b)\n",
    "        # test_loss = 0# binary_cross_entropy(y_test, y_pred_test)\n",
    "        # accuracy = 0#np.mean((y_pred_test >= 0.5).astype(int) == y_test)\n",
    "        \n",
    "        # Store history\n",
    "        history['train_loss'].append(train_loss)\n",
    "        \n",
    "        if epoch % 10 == 0:\n",
    "            print(f\"Epoch {epoch:3d} | Train Loss: {train_loss}\")\n",
    "    \n",
    "    return W1, b1, W2, b2, history\n",
    "        \n",
    "         "
   ]
  },
  {
   "cell_type": "code",
   "execution_count": 84,
   "metadata": {
    "collapsed": false,
    "jupyter": {
     "outputs_hidden": false
    },
    "pycharm": {
     "name": "#%%\n"
    }
   },
   "outputs": [],
   "source": [
    "def predict(X_test, W1, b1, W2, b2):\n",
    "    _, _, _, A2 = forward(X_test, W1, b1, W2, b2)\n",
    "    return (A2 >= 0.5).astype(int)\n"
   ]
  },
  {
   "cell_type": "code",
   "execution_count": 85,
   "metadata": {
    "collapsed": false,
    "jupyter": {
     "outputs_hidden": false
    },
    "pycharm": {
     "name": "#%%\n"
    }
   },
   "outputs": [],
   "source": [
    "def evaluate(y_true, y_pred):\n",
    "    TP = np.sum((y_true == 1) & (y_pred == 1))\n",
    "    FP = np.sum((y_true == 0) & (y_pred == 1))\n",
    "    FN = np.sum((y_true == 1) & (y_pred == 0))\n",
    "    TN = np.sum((y_true == 0) & (y_pred == 0))\n",
    "\n",
    "    precision = TP / (TP + FP + 1e-8)\n",
    "    recall = TP / (TP + FN + 1e-8)\n",
    "    f1 = 2 * precision * recall / (precision + recall + 1e-8)\n",
    "\n",
    "    print(f\"Confusion Matrix:\\nTP: {TP}, FP: {FP}\\nFN: {FN}, TN: {TN}\")\n",
    "    print(f\"F1-score: {f1:.4f}\")\n"
   ]
  },
  {
   "cell_type": "code",
   "execution_count": 146,
   "metadata": {
    "collapsed": false,
    "jupyter": {
     "outputs_hidden": false
    },
    "pycharm": {
     "name": "#%%\n"
    },
    "scrolled": true
   },
   "outputs": [
    {
     "name": "stdout",
     "output_type": "stream",
     "text": [
      "Epoch   0 | Train Loss: 0.45996636487592935\n",
      "Epoch  10 | Train Loss: 0.3305564534618733\n",
      "Epoch  20 | Train Loss: 0.3229937905482959\n",
      "Epoch  30 | Train Loss: 0.3172139581110449\n",
      "Epoch  40 | Train Loss: 0.31228134224454174\n",
      "Epoch  50 | Train Loss: 0.30783706427084934\n",
      "Epoch  60 | Train Loss: 0.30390134815932335\n",
      "Epoch  70 | Train Loss: 0.30050545432405096\n",
      "Epoch  80 | Train Loss: 0.2975504716975322\n",
      "Epoch  90 | Train Loss: 0.29487167917715607\n",
      "Epoch 100 | Train Loss: 0.29236478017546896\n",
      "Epoch 110 | Train Loss: 0.290012115131149\n",
      "Epoch 120 | Train Loss: 0.2878462211839025\n",
      "Epoch 130 | Train Loss: 0.2858657161409837\n",
      "Epoch 140 | Train Loss: 0.2840380099346879\n",
      "Epoch 150 | Train Loss: 0.28233644445460154\n",
      "Epoch 160 | Train Loss: 0.28074590693186535\n",
      "Epoch 170 | Train Loss: 0.27925784438922774\n",
      "Epoch 180 | Train Loss: 0.27786668126150277\n",
      "Epoch 190 | Train Loss: 0.2765680880897052\n",
      "Epoch 200 | Train Loss: 0.2753581920223521\n",
      "Epoch 210 | Train Loss: 0.27423321384780786\n",
      "Epoch 220 | Train Loss: 0.27318930403259717\n",
      "Epoch 230 | Train Loss: 0.2722224788527875\n",
      "Epoch 240 | Train Loss: 0.2713286110420214\n",
      "Epoch 250 | Train Loss: 0.2705034517534718\n",
      "Epoch 260 | Train Loss: 0.26974267043870115\n",
      "Epoch 270 | Train Loss: 0.26904190391183597\n",
      "Epoch 280 | Train Loss: 0.2683968084329348\n",
      "Epoch 290 | Train Loss: 0.2678031103510442\n",
      "Epoch 300 | Train Loss: 0.2672566521765887\n",
      "Epoch 310 | Train Loss: 0.2667534320666766\n",
      "Epoch 320 | Train Loss: 0.2662896356432718\n",
      "Epoch 330 | Train Loss: 0.2658616598222714\n",
      "Epoch 340 | Train Loss: 0.26546612890837207\n",
      "Epoch 350 | Train Loss: 0.2650999036133377\n",
      "Epoch 360 | Train Loss: 0.2647600839023257\n",
      "Epoch 370 | Train Loss: 0.2644440066906574\n",
      "Epoch 380 | Train Loss: 0.2641492394315966\n",
      "Epoch 390 | Train Loss: 0.2638735705834689\n",
      "Epoch 400 | Train Loss: 0.263614997847604\n",
      "Epoch 410 | Train Loss: 0.2633717149480696\n",
      "Epoch 420 | Train Loss: 0.26314209759578244\n",
      "Epoch 430 | Train Loss: 0.26292468915431166\n",
      "Epoch 440 | Train Loss: 0.2627181864094356\n",
      "Epoch 450 | Train Loss: 0.262521425743046\n",
      "Epoch 460 | Train Loss: 0.262333369925756\n",
      "Epoch 470 | Train Loss: 0.2621530956714761\n",
      "Epoch 480 | Train Loss: 0.26197978204021727\n",
      "Epoch 490 | Train Loss: 0.261812699730895\n",
      "Epoch 500 | Train Loss: 0.2616512012721708\n",
      "Epoch 510 | Train Loss: 0.26149471209458824\n",
      "Epoch 520 | Train Loss: 0.2613427224497828\n",
      "Epoch 530 | Train Loss: 0.261194780130871\n",
      "Epoch 540 | Train Loss: 0.26105048394098496\n",
      "Epoch 550 | Train Loss: 0.26090947785322455\n",
      "Epoch 560 | Train Loss: 0.2607714458041849\n",
      "Epoch 570 | Train Loss: 0.2606361070639519\n",
      "Epoch 580 | Train Loss: 0.26050321212750066\n",
      "Epoch 590 | Train Loss: 0.2603725390753274\n",
      "Epoch 600 | Train Loss: 0.260243890354572\n",
      "Epoch 610 | Train Loss: 0.2601170899355858\n",
      "Epoch 620 | Train Loss: 0.2599919808026948\n",
      "Epoch 630 | Train Loss: 0.2598684227416577\n",
      "Epoch 640 | Train Loss: 0.2597462903899371\n",
      "Epoch 650 | Train Loss: 0.25962547151933535\n",
      "Epoch 660 | Train Loss: 0.2595058655237447\n",
      "Epoch 670 | Train Loss: 0.25938738208771955\n",
      "Epoch 680 | Train Loss: 0.25926994001428283\n",
      "Epoch 690 | Train Loss: 0.2591534661928299\n",
      "Epoch 700 | Train Loss: 0.2590378946902123\n",
      "Epoch 710 | Train Loss: 0.25892316595006626\n",
      "Epoch 720 | Train Loss: 0.25880922608723017\n",
      "Epoch 730 | Train Loss: 0.25869602626567095\n",
      "Epoch 740 | Train Loss: 0.25858352214974706\n",
      "Epoch 750 | Train Loss: 0.2584716734198686\n",
      "Epoch 760 | Train Loss: 0.25836044334471886\n",
      "Epoch 770 | Train Loss: 0.258249798403159\n",
      "Epoch 780 | Train Loss: 0.2581397079497908\n",
      "Epoch 790 | Train Loss: 0.25803014391889617\n",
      "Epoch 800 | Train Loss: 0.2579210805621265\n",
      "Epoch 810 | Train Loss: 0.2578124942158883\n",
      "Epoch 820 | Train Loss: 0.2577043630948737\n",
      "Epoch 830 | Train Loss: 0.2575966671086243\n",
      "Epoch 840 | Train Loss: 0.2574893876984001\n",
      "Epoch 850 | Train Loss: 0.2573825076919629\n",
      "Epoch 860 | Train Loss: 0.2572760111741785\n",
      "Epoch 870 | Train Loss: 0.257169883371594\n",
      "Epoch 880 | Train Loss: 0.25706411054937917\n",
      "Epoch 890 | Train Loss: 0.25695867991920934\n",
      "Epoch 900 | Train Loss: 0.2568535795568444\n",
      "Epoch 910 | Train Loss: 0.25674879832830666\n",
      "Epoch 920 | Train Loss: 0.2566443258236899\n",
      "Epoch 930 | Train Loss: 0.2565401522977505\n",
      "Epoch 940 | Train Loss: 0.25643626861652896\n",
      "Epoch 950 | Train Loss: 0.2563326662093395\n",
      "Epoch 960 | Train Loss: 0.2562293370255416\n",
      "Epoch 970 | Train Loss: 0.25612627349557643\n",
      "Epoch 980 | Train Loss: 0.25602346849580815\n",
      "Epoch 990 | Train Loss: 0.25592091531676403\n"
     ]
    }
   ],
   "source": [
    "W1, b1, W2, b2, h= train(X_train, y_train, X_test, y_test, 1000, 0.1)"
   ]
  },
  {
   "cell_type": "code",
   "execution_count": 147,
   "metadata": {},
   "outputs": [],
   "source": [
    "y_pred = predict(X_test, W1, b1, W2, b2)"
   ]
  },
  {
   "cell_type": "code",
   "execution_count": 148,
   "metadata": {},
   "outputs": [
    {
     "name": "stdout",
     "output_type": "stream",
     "text": [
      "Confusion Matrix:\n",
      "TP: 130, FP: 51\n",
      "FN: 843, TN: 8976\n",
      "F1-score: 0.2253\n"
     ]
    }
   ],
   "source": [
    "evaluate(y_test, y_pred)"
   ]
  },
  {
   "cell_type": "code",
   "execution_count": 149,
   "metadata": {
    "collapsed": false,
    "jupyter": {
     "outputs_hidden": false
    },
    "pycharm": {
     "name": "#%%\n"
    }
   },
   "outputs": [
    {
     "data": {
      "image/png": "[encoded data removed]",
      "text/plain": [
       "<Figure size 640x480 with 1 Axes>"
      ]
     },
     "metadata": {},
     "output_type": "display_data"
    }
   ],
   "source": [
    "plt.plot(h['train_loss'], label='Train Loss')\n",
    "plt.title('Loss')\n",
    "plt.xlabel('Epoch')\n",
    "plt.ylabel('Loss')\n",
    "plt.show()"
   ]
  },
  {
   "cell_type": "code",
   "execution_count": null,
   "metadata": {},
   "outputs": [],
   "source": []
  }
 ],
 "metadata": {
  "colab": {
   "provenance": []
  },
  "kernelspec": {
   "display_name": "Python 3 (ipykernel)",
   "language": "python",
   "name": "python3"
  },
  "language_info": {
   "codemirror_mode": {
    "name": "ipython",
    "version": 3
   },
   "file_extension": ".py",
   "mimetype": "text/x-python",
   "name": "python",
   "nbconvert_exporter": "python",
   "pygments_lexer": "ipython3",
   "version": "3.9.6"
  }
 },
 "nbformat": 4,
 "nbformat_minor": 4
}