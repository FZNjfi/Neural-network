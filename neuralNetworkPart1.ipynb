{
 "cells": [
  {
   "cell_type": "code",
   "execution_count": 1,
   "metadata": {
    "collapsed": false,
    "jupyter": {
     "outputs_hidden": false
    },
    "pycharm": {
     "is_executing": true,
     "name": "#%%\n"
    }
   },
   "outputs": [],
   "source": [
    "import numpy as np\n",
    "import matplotlib.pyplot as plt\n",
    "import pandas as pd\n",
    "import seaborn as sns\n",
    "from scipy.stats import zscore\n",
    "from sklearn.model_selection import train_test_split"
   ]
  },
  {
   "cell_type": "code",
   "execution_count": 2,
   "metadata": {
    "collapsed": false,
    "jupyter": {
     "outputs_hidden": false
    },
    "pycharm": {
     "name": "#%%\n"
    }
   },
   "outputs": [
    {
     "name": "stdout",
     "output_type": "stream",
     "text": [
      "            pixel_0      pixel_1       pixel_2       pixel_3       pixel_4  \\\n",
      "count  50000.000000  50000.00000  50000.000000  50000.000000  50000.000000   \n",
      "mean     130.710740    130.14036    131.050440    131.568860    132.184700   \n",
      "std       73.412873     72.44259     72.240546     72.016555     71.714551   \n",
      "min        0.000000      0.00000      0.000000      0.000000      0.000000   \n",
      "25%       71.000000     71.00000     73.000000     73.000000     75.000000   \n",
      "50%      128.000000    127.00000    129.000000    130.000000    130.000000   \n",
      "75%      189.000000    188.00000    188.000000    188.000000    189.000000   \n",
      "max      255.000000    255.00000    255.000000    255.000000    255.000000   \n",
      "\n",
      "            pixel_5       pixel_6       pixel_7       pixel_8      pixel_9  \\\n",
      "count  50000.000000  50000.000000  50000.000000  50000.000000  50000.00000   \n",
      "mean     132.851840    133.371540    133.890920    134.485040    134.93260   \n",
      "std       71.537505     71.353558     71.281237     71.071698     71.03647   \n",
      "min        0.000000      0.000000      0.000000      0.000000      0.00000   \n",
      "25%       75.000000     76.000000     76.750000     78.000000     78.00000   \n",
      "50%      131.000000    132.000000    132.000000    133.000000    134.00000   \n",
      "75%      190.000000    190.000000    191.000000    191.000000    192.00000   \n",
      "max      255.000000    255.000000    255.000000    255.000000    255.00000   \n",
      "\n",
      "       ...    pixel_3063    pixel_3064    pixel_3065    pixel_3066  \\\n",
      "count  ...  50000.000000  50000.000000  50000.000000  50000.000000   \n",
      "mean   ...    113.716260    113.735320    113.778520    113.813200   \n",
      "std    ...     64.345623     64.431996     64.401897     64.502684   \n",
      "min    ...      0.000000      0.000000      0.000000      0.000000   \n",
      "25%    ...     64.000000     64.000000     64.000000     64.000000   \n",
      "50%    ...    106.000000    106.000000    106.000000    106.000000   \n",
      "75%    ...    157.000000    157.000000    157.000000    157.000000   \n",
      "max    ...    255.000000    255.000000    255.000000    255.000000   \n",
      "\n",
      "         pixel_3067    pixel_3068    pixel_3069    pixel_3070    pixel_3071  \\\n",
      "count  50000.000000  50000.000000  50000.000000  50000.000000  50000.000000   \n",
      "mean     113.864120    113.877800    113.830580    113.906240    114.381860   \n",
      "std       64.511269     64.738943     64.894603     65.212671     66.077526   \n",
      "min        0.000000      0.000000      0.000000      0.000000      0.000000   \n",
      "25%       64.000000     64.000000     64.000000     64.000000     63.000000   \n",
      "50%      106.000000    106.000000    106.000000    106.000000    106.000000   \n",
      "75%      157.000000    157.000000    157.000000    157.000000    158.000000   \n",
      "max      255.000000    255.000000    255.000000    255.000000    255.000000   \n",
      "\n",
      "             label  \n",
      "count  50000.00000  \n",
      "mean       4.50000  \n",
      "std        2.87231  \n",
      "min        0.00000  \n",
      "25%        2.00000  \n",
      "50%        4.50000  \n",
      "75%        7.00000  \n",
      "max        9.00000  \n",
      "\n",
      "[8 rows x 3073 columns] \n",
      "\n"
     ]
    }
   ],
   "source": [
    "try:\n",
    "        data = pd.read_csv(\"train.csv\")\n",
    "        print(data.describe(),\"\\n\")\n",
    "except Exception as e:\n",
    "        print(\"Error! data not  found.\")"
   ]
  },
  {
   "cell_type": "code",
   "execution_count": 3,
   "metadata": {},
   "outputs": [
    {
     "name": "stdout",
     "output_type": "stream",
     "text": [
      "            pixel_0       pixel_1       pixel_2       pixel_3     pixel_4  \\\n",
      "count  10000.000000  10000.000000  10000.000000  10000.000000  10000.0000   \n",
      "mean     130.535400    129.993900    131.145000    132.146800    132.9294   \n",
      "std       73.333214     72.397388     72.288499     71.739001     71.3252   \n",
      "min        0.000000      0.000000      0.000000      0.000000      0.0000   \n",
      "25%       70.000000     71.000000     73.000000     75.000000     76.0000   \n",
      "50%      127.000000    127.000000    128.000000    129.000000    130.0000   \n",
      "75%      188.000000    187.000000    189.000000    190.000000    190.0000   \n",
      "max      255.000000    255.000000    255.000000    255.000000    255.0000   \n",
      "\n",
      "            pixel_5       pixel_6       pixel_7      pixel_8       pixel_9  \\\n",
      "count  10000.000000  10000.000000  10000.000000  10000.00000  10000.000000   \n",
      "mean     133.538900    134.117600    134.701800    135.26150    135.709000   \n",
      "std       71.209804     71.014037     71.088556     70.97164     71.004424   \n",
      "min        0.000000      0.000000      0.000000      0.00000      0.000000   \n",
      "25%       77.000000     77.000000     78.000000     78.75000     79.000000   \n",
      "50%      132.000000    133.000000    133.000000    134.00000    135.000000   \n",
      "75%      190.000000    191.000000    192.000000    192.00000    192.000000   \n",
      "max      255.000000    255.000000    255.000000    255.00000    255.000000   \n",
      "\n",
      "       ...    pixel_3062    pixel_3063    pixel_3064    pixel_3065  \\\n",
      "count  ...  10000.000000  10000.000000  10000.000000  10000.000000   \n",
      "mean   ...    114.388800    114.382400    114.698300    114.557900   \n",
      "std    ...     63.641622     63.828172     63.963818     63.881227   \n",
      "min    ...      0.000000      0.000000      0.000000      0.000000   \n",
      "25%    ...     65.000000     65.750000     66.000000     66.000000   \n",
      "50%    ...    107.000000    106.000000    107.000000    107.000000   \n",
      "75%    ...    157.000000    157.000000    157.000000    157.250000   \n",
      "max    ...    255.000000    255.000000    255.000000    255.000000   \n",
      "\n",
      "         pixel_3066    pixel_3067    pixel_3068    pixel_3069    pixel_3070  \\\n",
      "count  10000.000000  10000.000000  10000.000000  10000.000000  10000.000000   \n",
      "mean     114.497500    114.730200    114.760400    114.844100    114.776000   \n",
      "std       64.134915     64.153092     64.333828     64.443142     64.911164   \n",
      "min        0.000000      0.000000      0.000000      0.000000      0.000000   \n",
      "25%       65.000000     66.000000     65.000000     65.000000     65.000000   \n",
      "50%      106.000000    106.000000    107.000000    106.000000    106.000000   \n",
      "75%      158.000000    157.000000    158.000000    158.000000    158.000000   \n",
      "max      255.000000    255.000000    255.000000    255.000000    255.000000   \n",
      "\n",
      "         pixel_3071  \n",
      "count  10000.000000  \n",
      "mean     115.327100  \n",
      "std       65.662591  \n",
      "min        0.000000  \n",
      "25%       65.000000  \n",
      "50%      106.000000  \n",
      "75%      160.000000  \n",
      "max      255.000000  \n",
      "\n",
      "[8 rows x 3072 columns] \n",
      "\n"
     ]
    }
   ],
   "source": [
    "try:\n",
    "        test = pd.read_csv(\"test.csv\")\n",
    "        print(test.describe(),\"\\n\")\n",
    "except Exception as e:\n",
    "        print(\"Error! data not  found.\")"
   ]
  },
  {
   "cell_type": "code",
   "execution_count": 15,
   "metadata": {
    "collapsed": false,
    "jupyter": {
     "outputs_hidden": false
    },
    "pycharm": {
     "name": "#%%\n"
    }
   },
   "outputs": [
    {
     "data": {
      "text/plain": [
       "0        6\n",
       "1        9\n",
       "2        9\n",
       "3        4\n",
       "4        1\n",
       "        ..\n",
       "49995    2\n",
       "49996    6\n",
       "49997    9\n",
       "49998    1\n",
       "49999    1\n",
       "Name: label, Length: 50000, dtype: int64"
      ]
     },
     "execution_count": 15,
     "metadata": {},
     "output_type": "execute_result"
    }
   ],
   "source": [
    "X = data.drop(columns=['label'])\n",
    "y = data['label']\n",
    "y"
   ]
  },
  {
   "cell_type": "code",
   "execution_count": 16,
   "metadata": {
    "collapsed": false,
    "jupyter": {
     "outputs_hidden": false
    },
    "pycharm": {
     "name": "#%%\n"
    }
   },
   "outputs": [],
   "source": [
    "def check_missing_values():\n",
    "    missing = X.isnull().sum()\n",
    "    missing = missing[missing > 0]\n",
    "    if not missing.empty:\n",
    "        print(missing)\n",
    "    else:\n",
    "        print(\"\\n No Missing Data \\n\")\n",
    "\n",
    "def detect_outliers(z_thresh=3.29):\n",
    "    for col in X.columns:\n",
    "        if pd.api.types.is_numeric_dtype(X[col]):\n",
    "            z_scores = zscore(X[col])\n",
    "            outliers = (abs(z_scores) > z_thresh)\n",
    "            num_outliers = outliers.sum()\n",
    "            # rint(f\"col '{col}': {num_outliers} outlier found.\")\n",
    "            #filtered_data = data[np.abs(z_scores) <= z_thresh]\n",
    "def normal(X):\n",
    "    return X.reshape(X.shape[0], -1).astype(np.float32) / 255.0\n",
    "\n",
    "def plot_distributions():\n",
    "    for col in X_train.columns:\n",
    "        if pd.api.types.is_numeric_dtype(X_train[col]):\n",
    "            plt.figure(figsize=(6,4))\n",
    "            sns.histplot(X_train[col], kde=True)\n",
    "            plt.title(f\"Distribution of {col}\")\n",
    "            plt.show()\n",
    "        else:\n",
    "          print(\"\\n\",col, \"is not numeric\")"
   ]
  },
  {
   "cell_type": "code",
   "execution_count": 17,
   "metadata": {
    "collapsed": false,
    "jupyter": {
     "outputs_hidden": false
    },
    "pycharm": {
     "name": "#%%\n"
    }
   },
   "outputs": [
    {
     "name": "stdout",
     "output_type": "stream",
     "text": [
      "\n",
      " No Missing Data \n",
      "\n"
     ]
    }
   ],
   "source": [
    "check_missing_values()\n",
    "detect_outliers()"
   ]
  },
  {
   "cell_type": "code",
   "execution_count": 18,
   "metadata": {},
   "outputs": [
    {
     "name": "stdout",
     "output_type": "stream",
     "text": [
      "[0 0 0 ... 0 0 0]\n"
     ]
    }
   ],
   "source": [
    "y = np.where(data['label'] == 0, 1, 0)\n",
    "print(y)"
   ]
  },
  {
   "cell_type": "code",
   "execution_count": 19,
   "metadata": {
    "collapsed": false,
    "jupyter": {
     "outputs_hidden": false
    },
    "pycharm": {
     "name": "#%%\n"
    }
   },
   "outputs": [
    {
     "data": {
      "text/plain": [
       "array([[0.23137255, 0.16862746, 0.19607843, ..., 0.54901963, 0.32941177,\n",
       "        0.28235295],\n",
       "       [0.6039216 , 0.49411765, 0.4117647 , ..., 0.54509807, 0.5568628 ,\n",
       "        0.5647059 ],\n",
       "       [1.        , 0.99215686, 0.99215686, ..., 0.3254902 , 0.3254902 ,\n",
       "        0.32941177],\n",
       "       ...,\n",
       "       [0.13725491, 0.15686275, 0.16470589, ..., 0.3019608 , 0.25882354,\n",
       "        0.19607843],\n",
       "       [0.7411765 , 0.7294118 , 0.7254902 , ..., 0.6627451 , 0.67058825,\n",
       "        0.67058825],\n",
       "       [0.8980392 , 0.9254902 , 0.91764706, ..., 0.6784314 , 0.63529414,\n",
       "        0.6313726 ]], dtype=float32)"
      ]
     },
     "execution_count": 19,
     "metadata": {},
     "output_type": "execute_result"
    }
   ],
   "source": [
    "X = X.to_numpy().reshape(X.shape[0], -1)\n",
    "#y = y.to_numpy()\n",
    "X = normal(X)\n",
    "X"
   ]
  },
  {
   "cell_type": "code",
   "execution_count": 21,
   "metadata": {
    "collapsed": false,
    "jupyter": {
     "outputs_hidden": false
    },
    "pycharm": {
     "name": "#%%\n"
    }
   },
   "outputs": [
    {
     "name": "stdout",
     "output_type": "stream",
     "text": [
      "[[0.13333334 0.14509805 0.17254902 ... 0.19215687 0.1882353  0.22745098]\n",
      " [0.35686275 0.37254903 0.36078432 ... 0.2901961  0.4745098  0.5254902 ]\n",
      " [0.8156863  0.7764706  0.6431373  ... 0.6392157  0.64705884 0.6156863 ]\n",
      " ...\n",
      " [0.41960785 0.49803922 0.45882353 ... 0.13333334 0.13333334 0.13333334]\n",
      " [1.         1.         1.         ... 0.21960784 0.23137255 0.23921569]\n",
      " [0.73333335 0.77254903 0.78431374 ... 0.37254903 0.40392157 0.41568628]]\n"
     ]
    }
   ],
   "source": [
    "X_train, X_test,y_train,y_test = train_test_split(\n",
    "    X,y,\n",
    "    test_size=0.2,\n",
    "    random_state=42,\n",
    ")\n",
    "print(X_train)"
   ]
  },
  {
   "cell_type": "code",
   "execution_count": 22,
   "metadata": {
    "collapsed": false,
    "jupyter": {
     "outputs_hidden": false
    },
    "pycharm": {
     "name": "#%%\n"
    }
   },
   "outputs": [
    {
     "data": {
      "text/plain": [
       "(50000, 3072)"
      ]
     },
     "execution_count": 22,
     "metadata": {},
     "output_type": "execute_result"
    }
   ],
   "source": [
    "X.shape"
   ]
  },
  {
   "cell_type": "code",
   "execution_count": 23,
   "metadata": {
    "collapsed": false,
    "jupyter": {
     "outputs_hidden": false
    },
    "pycharm": {
     "name": "#%%\n"
    }
   },
   "outputs": [
    {
     "data": {
      "text/plain": [
       "(50000,)"
      ]
     },
     "execution_count": 23,
     "metadata": {},
     "output_type": "execute_result"
    }
   ],
   "source": [
    "y.shape"
   ]
  },
  {
   "cell_type": "code",
   "execution_count": 24,
   "metadata": {
    "collapsed": false,
    "jupyter": {
     "outputs_hidden": false
    },
    "pycharm": {
     "name": "#%%\n"
    }
   },
   "outputs": [
    {
     "name": "stdout",
     "output_type": "stream",
     "text": [
      "not airplain: 35973\n",
      "airplain: 4027\n"
     ]
    }
   ],
   "source": [
    "print(\"not airplain:\", np.sum(y_train == 0))\n",
    "print(\"airplain:\", np.sum(y_train == 1))"
   ]
  },
  {
   "cell_type": "code",
   "execution_count": 25,
   "metadata": {
    "collapsed": false,
    "jupyter": {
     "outputs_hidden": false
    },
    "pycharm": {
     "name": "#%%\n"
    }
   },
   "outputs": [],
   "source": [
    "#y = np.array(y).astype(np.float32)"
   ]
  },
  {
   "cell_type": "code",
   "execution_count": 26,
   "metadata": {
    "collapsed": false,
    "jupyter": {
     "outputs_hidden": false
    },
    "pycharm": {
     "name": "#%%\n"
    }
   },
   "outputs": [],
   "source": [
    "def sigmoid_activation_function(z):\n",
    "        return sigmoid(z) * (1 - sigmoid(z))"
   ]
  },
  {
   "cell_type": "code",
   "execution_count": 27,
   "metadata": {
    "collapsed": false,
    "jupyter": {
     "outputs_hidden": false
    },
    "pycharm": {
     "name": "#%%\n"
    }
   },
   "outputs": [],
   "source": [
    "def sigmoid(z):\n",
    "    return 1 / (1 + np.exp(-z))"
   ]
  },
  {
   "cell_type": "code",
   "execution_count": 34,
   "metadata": {
    "collapsed": false,
    "jupyter": {
     "outputs_hidden": false
    },
    "pycharm": {
     "name": "#%%\n"
    }
   },
   "outputs": [],
   "source": [
    "def binary_cross_entropy(y_true, y_pred):\n",
    "    bce = -np.mean(y_true * np.log(y_pred) + (1 - y_true) * np.log(1 - y_pred))\n",
    "    return bce"
   ]
  },
  {
   "cell_type": "code",
   "execution_count": 35,
   "metadata": {
    "collapsed": false,
    "jupyter": {
     "outputs_hidden": false
    },
    "pycharm": {
     "name": "#%%\n"
    }
   },
   "outputs": [],
   "source": [
    "def forward(X, y, W, b):\n",
    "    z = np.dot(X, W) + b\n",
    "    return sigmoid(z)\n",
    "\n",
    "def compute_loss(y_true, y_pred):\n",
    "        return binary_cross_entropy(y, y_pred)\n",
    "\n",
    "def backward(X, y, W, b, lr, loss, y_pred):\n",
    "    dz = y_pred - y\n",
    "    dw = np.dot(X.T,dz)/X.shape[0]\n",
    "    db= np.mean(dz)\n",
    "\n",
    "    W  -= lr * dw\n",
    "    b -= lr * db\n",
    "\n",
    "    return W, b\n",
    "def params(X):\n",
    "    W = np.random.normal(0, 1/np.sqrt(X.shape[1]), size=X.shape[1])\n",
    "    b = 0\n",
    "    return W,b\n",
    "\n",
    "def train(X, y, X_test, y_test, epochs=100, lr=0.1):\n",
    "    W, b = params(X)\n",
    "    \n",
    "    history = {\n",
    "        'train_loss': [],\n",
    "        'test_loss': [],\n",
    "        'accuracy': []\n",
    "    }\n",
    "    \n",
    "    for epoch in range(epochs):\n",
    "        # Forward pass (train)\n",
    "        y_pred_train = forward(X, y, W, b)\n",
    "        train_loss = binary_cross_entropy(y, y_pred_train)\n",
    "        \n",
    "        # Backward pass\n",
    "        W, b = backward(X, y, W, b, lr, train_loss, y_pred_train)\n",
    "        \n",
    "        # Evaluation on test set\n",
    "        #y_pred_test = forward(X_test, y_test, W, b)\n",
    "        test_loss = 0# binary_cross_entropy(y_test, y_pred_test)\n",
    "        accuracy = 0#np.mean((y_pred_test >= 0.5).astype(int) == y_test)\n",
    "        \n",
    "        # Store history\n",
    "        history['train_loss'].append(train_loss)\n",
    "        history['test_loss'].append(test_loss)\n",
    "        history['accuracy'].append(accuracy)\n",
    "        \n",
    "        if epoch % 10 == 0:\n",
    "            print(f\"Epoch {epoch:3d} | Train Loss: {train_loss}\")\n",
    "    \n",
    "    return W, b, history\n",
    "        \n",
    "         "
   ]
  },
  {
   "cell_type": "code",
   "execution_count": 36,
   "metadata": {
    "collapsed": false,
    "jupyter": {
     "outputs_hidden": false
    },
    "pycharm": {
     "name": "#%%\n"
    }
   },
   "outputs": [],
   "source": [
    "def predict(X, W, b):\n",
    "    z = np.dot(X, W) + b\n",
    "    y_pred = sigmoid(z)\n",
    "    return (y_pred >= 0.5).astype(int)\n"
   ]
  },
  {
   "cell_type": "code",
   "execution_count": 37,
   "metadata": {
    "collapsed": false,
    "jupyter": {
     "outputs_hidden": false
    },
    "pycharm": {
     "name": "#%%\n"
    }
   },
   "outputs": [],
   "source": [
    "def evaluate(y_true, y_pred):\n",
    "    TP = np.sum((y_true == 1) & (y_pred == 1))\n",
    "    TN = np.sum((y_true == 0) & (y_pred == 0))\n",
    "    FP = np.sum((y_true == 0) & (y_pred == 1))\n",
    "    FN = np.sum((y_true == 1) & (y_pred == 0))\n",
    "\n",
    "    precision = TP / (TP + FP + 1e-8)\n",
    "    recall = TP / (TP + FN + 1e-8)\n",
    "    f1_score = 2 * precision * recall / (precision + recall + 1e-8)\n",
    "\n",
    "    print(\"Confusion Matrix:\")\n",
    "    print(f\"TP: {TP}, FP: {FP}\")\n",
    "    print(f\"FN: {FN}, TN: {TN}\")\n",
    "    print(f\"F1-score: {f1_score}\")\n"
   ]
  },
  {
   "cell_type": "code",
   "execution_count": 44,
   "metadata": {
    "collapsed": false,
    "jupyter": {
     "outputs_hidden": false
    },
    "pycharm": {
     "name": "#%%\n"
    },
    "scrolled": true
   },
   "outputs": [
    {
     "name": "stdout",
     "output_type": "stream",
     "text": [
      "Epoch   0 | Train Loss: 0.6945035602388231\n",
      "Epoch  10 | Train Loss: 0.3644152141134638\n",
      "Epoch  20 | Train Loss: 0.3533522647386308\n",
      "Epoch  30 | Train Loss: 0.3449071651508065\n",
      "Epoch  40 | Train Loss: 0.33826247747310734\n",
      "Epoch  50 | Train Loss: 0.3329039051481242\n",
      "Epoch  60 | Train Loss: 0.3284987096940442\n",
      "Epoch  70 | Train Loss: 0.32482332510329\n",
      "Epoch  80 | Train Loss: 0.32172132354807154\n",
      "Epoch  90 | Train Loss: 0.3190789831365999\n",
      "Epoch 100 | Train Loss: 0.31681084500346185\n",
      "Epoch 110 | Train Loss: 0.31485093459142244\n",
      "Epoch 120 | Train Loss: 0.31314723387245147\n",
      "Epoch 130 | Train Loss: 0.31165806042632005\n",
      "Epoch 140 | Train Loss: 0.31034959841099896\n",
      "Epoch 150 | Train Loss: 0.3091941503402734\n",
      "Epoch 160 | Train Loss: 0.30816885767978336\n",
      "Epoch 170 | Train Loss: 0.3072547385230641\n",
      "Epoch 180 | Train Loss: 0.30643594775524213\n",
      "Epoch 190 | Train Loss: 0.30569919847957044\n",
      "Epoch 200 | Train Loss: 0.3050333035478586\n",
      "Epoch 210 | Train Loss: 0.304428808518109\n",
      "Epoch 220 | Train Loss: 0.3038776954156142\n",
      "Epoch 230 | Train Loss: 0.3033731420634798\n",
      "Epoch 240 | Train Loss: 0.3029093254831345\n",
      "Epoch 250 | Train Loss: 0.30248126053439073\n",
      "Epoch 260 | Train Loss: 0.3020846669226901\n",
      "Epoch 270 | Train Loss: 0.30171585916871185\n",
      "Epoch 280 | Train Loss: 0.3013716552542669\n",
      "Epoch 290 | Train Loss: 0.3010493005226878\n",
      "Epoch 300 | Train Loss: 0.3007464040866543\n",
      "Epoch 310 | Train Loss: 0.3004608855275149\n",
      "Epoch 320 | Train Loss: 0.30019093009105036\n",
      "Epoch 330 | Train Loss: 0.2999349509200076\n",
      "Epoch 340 | Train Loss: 0.29969155713225226\n",
      "Epoch 350 | Train Loss: 0.2994595267692736\n",
      "Epoch 360 | Train Loss: 0.2992377838139939\n",
      "Epoch 370 | Train Loss: 0.29902537861792555\n",
      "Epoch 380 | Train Loss: 0.29882147119235575\n",
      "Epoch 390 | Train Loss: 0.2986253169116653\n",
      "Epoch 400 | Train Loss: 0.2984362542532783\n",
      "Epoch 410 | Train Loss: 0.2982536942613611\n",
      "Epoch 420 | Train Loss: 0.2980771114728884\n",
      "Epoch 430 | Train Loss: 0.2979060360871531\n",
      "Epoch 440 | Train Loss: 0.2977400471949093\n",
      "Epoch 450 | Train Loss: 0.2975787669124342\n",
      "Epoch 460 | Train Loss: 0.2974218552899933\n",
      "Epoch 470 | Train Loss: 0.2972690058843452\n",
      "Epoch 480 | Train Loss: 0.29711994190176183\n",
      "Epoch 490 | Train Loss: 0.29697441283214154\n",
      "Epoch 500 | Train Loss: 0.29683219150662243\n",
      "Epoch 510 | Train Loss: 0.2966930715210611\n",
      "Epoch 520 | Train Loss: 0.29655686497613526\n",
      "Epoch 530 | Train Loss: 0.29642340049191707\n",
      "Epoch 540 | Train Loss: 0.2962925214607725\n",
      "Epoch 550 | Train Loss: 0.2961640845075314\n",
      "Epoch 560 | Train Loss: 0.2960379581302075\n",
      "Epoch 570 | Train Loss: 0.29591402149823026\n",
      "Epoch 580 | Train Loss: 0.29579216338830416\n",
      "Epoch 590 | Train Loss: 0.29567228124069217\n",
      "Epoch 600 | Train Loss: 0.2955542803210315\n",
      "Epoch 610 | Train Loss: 0.2954380729747592\n",
      "Epoch 620 | Train Loss: 0.2953235779629259\n",
      "Epoch 630 | Train Loss: 0.2952107198696328\n",
      "Epoch 640 | Train Loss: 0.2950994285725898\n",
      "Epoch 650 | Train Loss: 0.2949896387693741\n",
      "Epoch 660 | Train Loss: 0.2948812895529109\n",
      "Epoch 670 | Train Loss: 0.2947743240305078\n",
      "Epoch 680 | Train Loss: 0.2946686889814813\n",
      "Epoch 690 | Train Loss: 0.29456433454902065\n",
      "Epoch 700 | Train Loss: 0.2944612139624714\n",
      "Epoch 710 | Train Loss: 0.29435928328667715\n",
      "Epoch 720 | Train Loss: 0.2942585011954243\n",
      "Epoch 730 | Train Loss: 0.2941588287663849\n",
      "Epoch 740 | Train Loss: 0.2940602292952577\n",
      "Epoch 750 | Train Loss: 0.29396266812707944\n",
      "Epoch 760 | Train Loss: 0.29386611250290756\n",
      "Epoch 770 | Train Loss: 0.2937705314202869\n",
      "Epoch 780 | Train Loss: 0.2936758955060898\n",
      "Epoch 790 | Train Loss: 0.2935821769004781\n",
      "Epoch 800 | Train Loss: 0.2934893491508758\n",
      "Epoch 810 | Train Loss: 0.29339738711496344\n",
      "Epoch 820 | Train Loss: 0.2933062668718123\n",
      "Epoch 830 | Train Loss: 0.29321596564037455\n",
      "Epoch 840 | Train Loss: 0.2931264617046247\n",
      "Epoch 850 | Train Loss: 0.2930377343447298\n",
      "Epoch 860 | Train Loss: 0.29294976377368287\n",
      "Epoch 870 | Train Loss: 0.2928625310788996\n",
      "Epoch 880 | Train Loss: 0.29277601816832616\n",
      "Epoch 890 | Train Loss: 0.2926902077206536\n",
      "Confusion Matrix:\n",
      "TP: 135, FP: 124\n",
      "FN: 838, TN: 8903\n",
      "F1-score: 0.21915584083165113\n"
     ]
    }
   ],
   "source": [
    "W , b, h= train(X_train, y_train, X_test, y_test, 900, 0.01)\n",
    "y_pred = predict(X_test, W, b)\n",
    "evaluate(y_test, y_pred)\n",
    "#y_pred = predict(test)"
   ]
  },
  {
   "cell_type": "code",
   "execution_count": 48,
   "metadata": {},
   "outputs": [
    {
     "data": {
      "image/png": "[encoded data removed]",
      "text/plain": [
       "<Figure size 640x480 with 1 Axes>"
      ]
     },
     "metadata": {},
     "output_type": "display_data"
    }
   ],
   "source": [
    "plt.plot(h['train_loss'], label='Train Loss')\n",
    "plt.title('Loss')\n",
    "plt.xlabel('Epoch')\n",
    "plt.ylabel('Loss')\n",
    "plt.show()"
   ]
  },
  {
   "cell_type": "code",
   "execution_count": null,
   "metadata": {},
   "outputs": [],
   "source": []
  }
 ],
 "metadata": {
  "colab": {
   "provenance": []
  },
  "kernelspec": {
   "display_name": "Python 3 (ipykernel)",
   "language": "python",
   "name": "python3"
  },
  "language_info": {
   "codemirror_mode": {
    "name": "ipython",
    "version": 3
   },
   "file_extension": ".py",
   "mimetype": "text/x-python",
   "name": "python",
   "nbconvert_exporter": "python",
   "pygments_lexer": "ipython3",
   "version": "3.9.6"
  }
 },
 "nbformat": 4,
 "nbformat_minor": 4
}