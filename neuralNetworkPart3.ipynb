{
 "cells": [
  {
   "cell_type": "code",
   "execution_count": 13,
   "metadata": {
    "collapsed": false,
    "jupyter": {
     "outputs_hidden": false
    },
    "pycharm": {
     "is_executing": true,
     "name": "#%%\n"
    }
   },
   "outputs": [],
   "source": [
    "import numpy as np\n",
    "import matplotlib.pyplot as plt\n",
    "import pandas as pd\n",
    "import seaborn as sns\n",
    "from scipy.stats import zscore\n",
    "from sklearn.model_selection import train_test_split"
   ]
  },
  {
   "cell_type": "code",
   "execution_count": 14,
   "metadata": {
    "collapsed": false,
    "jupyter": {
     "outputs_hidden": false
    },
    "pycharm": {
     "name": "#%%\n"
    }
   },
   "outputs": [
    {
     "name": "stdout",
     "output_type": "stream",
     "text": [
      "            pixel_0      pixel_1       pixel_2       pixel_3       pixel_4  \\\n",
      "count  50000.000000  50000.00000  50000.000000  50000.000000  50000.000000   \n",
      "mean     130.710740    130.14036    131.050440    131.568860    132.184700   \n",
      "std       73.412873     72.44259     72.240546     72.016555     71.714551   \n",
      "min        0.000000      0.00000      0.000000      0.000000      0.000000   \n",
      "25%       71.000000     71.00000     73.000000     73.000000     75.000000   \n",
      "50%      128.000000    127.00000    129.000000    130.000000    130.000000   \n",
      "75%      189.000000    188.00000    188.000000    188.000000    189.000000   \n",
      "max      255.000000    255.00000    255.000000    255.000000    255.000000   \n",
      "\n",
      "            pixel_5       pixel_6       pixel_7       pixel_8      pixel_9  \\\n",
      "count  50000.000000  50000.000000  50000.000000  50000.000000  50000.00000   \n",
      "mean     132.851840    133.371540    133.890920    134.485040    134.93260   \n",
      "std       71.537505     71.353558     71.281237     71.071698     71.03647   \n",
      "min        0.000000      0.000000      0.000000      0.000000      0.00000   \n",
      "25%       75.000000     76.000000     76.750000     78.000000     78.00000   \n",
      "50%      131.000000    132.000000    132.000000    133.000000    134.00000   \n",
      "75%      190.000000    190.000000    191.000000    191.000000    192.00000   \n",
      "max      255.000000    255.000000    255.000000    255.000000    255.00000   \n",
      "\n",
      "       ...    pixel_3063    pixel_3064    pixel_3065    pixel_3066  \\\n",
      "count  ...  50000.000000  50000.000000  50000.000000  50000.000000   \n",
      "mean   ...    113.716260    113.735320    113.778520    113.813200   \n",
      "std    ...     64.345623     64.431996     64.401897     64.502684   \n",
      "min    ...      0.000000      0.000000      0.000000      0.000000   \n",
      "25%    ...     64.000000     64.000000     64.000000     64.000000   \n",
      "50%    ...    106.000000    106.000000    106.000000    106.000000   \n",
      "75%    ...    157.000000    157.000000    157.000000    157.000000   \n",
      "max    ...    255.000000    255.000000    255.000000    255.000000   \n",
      "\n",
      "         pixel_3067    pixel_3068    pixel_3069    pixel_3070    pixel_3071  \\\n",
      "count  50000.000000  50000.000000  50000.000000  50000.000000  50000.000000   \n",
      "mean     113.864120    113.877800    113.830580    113.906240    114.381860   \n",
      "std       64.511269     64.738943     64.894603     65.212671     66.077526   \n",
      "min        0.000000      0.000000      0.000000      0.000000      0.000000   \n",
      "25%       64.000000     64.000000     64.000000     64.000000     63.000000   \n",
      "50%      106.000000    106.000000    106.000000    106.000000    106.000000   \n",
      "75%      157.000000    157.000000    157.000000    157.000000    158.000000   \n",
      "max      255.000000    255.000000    255.000000    255.000000    255.000000   \n",
      "\n",
      "             label  \n",
      "count  50000.00000  \n",
      "mean       4.50000  \n",
      "std        2.87231  \n",
      "min        0.00000  \n",
      "25%        2.00000  \n",
      "50%        4.50000  \n",
      "75%        7.00000  \n",
      "max        9.00000  \n",
      "\n",
      "[8 rows x 3073 columns] \n",
      "\n"
     ]
    }
   ],
   "source": [
    "try:\n",
    "        data = pd.read_csv(\"train.csv\")\n",
    "        print(data.describe(),\"\\n\")\n",
    "except Exception as e:\n",
    "        print(\"Error! data not  found.\")"
   ]
  },
  {
   "cell_type": "code",
   "execution_count": 15,
   "metadata": {
    "collapsed": false,
    "jupyter": {
     "outputs_hidden": false
    },
    "pycharm": {
     "name": "#%%\n"
    }
   },
   "outputs": [
    {
     "data": {
      "text/plain": [
       "0        6\n",
       "1        9\n",
       "2        9\n",
       "3        4\n",
       "4        1\n",
       "        ..\n",
       "49995    2\n",
       "49996    6\n",
       "49997    9\n",
       "49998    1\n",
       "49999    1\n",
       "Name: label, Length: 50000, dtype: int64"
      ]
     },
     "execution_count": 15,
     "metadata": {},
     "output_type": "execute_result"
    }
   ],
   "source": [
    "X = data.drop(columns=['label'])\n",
    "y = data['label']\n",
    "y"
   ]
  },
  {
   "cell_type": "code",
   "execution_count": 16,
   "metadata": {
    "collapsed": false,
    "jupyter": {
     "outputs_hidden": false
    },
    "pycharm": {
     "name": "#%%\n"
    }
   },
   "outputs": [],
   "source": [
    "def check_missing_values():\n",
    "    missing = X.isnull().sum()\n",
    "    missing = missing[missing > 0]\n",
    "    if not missing.empty:\n",
    "        print(missing)\n",
    "    else:\n",
    "        print(\"\\n No Missing Data \\n\")\n",
    "\n",
    "def detect_outliers(z_thresh=3.29):\n",
    "    for col in X.columns:\n",
    "        if pd.api.types.is_numeric_dtype(X[col]):\n",
    "            z_scores = zscore(X[col])\n",
    "            outliers = (abs(z_scores) > z_thresh)\n",
    "            num_outliers = outliers.sum()\n",
    "            # rint(f\"col '{col}': {num_outliers} outlier found.\")\n",
    "            #filtered_data = data[np.abs(z_scores) <= z_thresh]\n",
    "def normal(X):\n",
    "    return X.reshape(X.shape[0], -1).astype(np.float32) / 255.0\n",
    "\n",
    "def plot_distributions():\n",
    "    for col in X_train.columns:\n",
    "        if pd.api.types.is_numeric_dtype(X_train[col]):\n",
    "            plt.figure(figsize=(6,4))\n",
    "            sns.histplot(X_train[col], kde=True)\n",
    "            plt.title(f\"Distribution of {col}\")\n",
    "            plt.show()\n",
    "        else:\n",
    "          print(\"\\n\",col, \"is not numeric\")"
   ]
  },
  {
   "cell_type": "code",
   "execution_count": 17,
   "metadata": {
    "collapsed": false,
    "jupyter": {
     "outputs_hidden": false
    },
    "pycharm": {
     "name": "#%%\n"
    }
   },
   "outputs": [
    {
     "data": {
      "text/plain": [
       "array([[0.23137255, 0.16862746, 0.19607843, ..., 0.54901963, 0.32941177,\n",
       "        0.28235295],\n",
       "       [0.6039216 , 0.49411765, 0.4117647 , ..., 0.54509807, 0.5568628 ,\n",
       "        0.5647059 ],\n",
       "       [1.        , 0.99215686, 0.99215686, ..., 0.3254902 , 0.3254902 ,\n",
       "        0.32941177],\n",
       "       ...,\n",
       "       [0.13725491, 0.15686275, 0.16470589, ..., 0.3019608 , 0.25882354,\n",
       "        0.19607843],\n",
       "       [0.7411765 , 0.7294118 , 0.7254902 , ..., 0.6627451 , 0.67058825,\n",
       "        0.67058825],\n",
       "       [0.8980392 , 0.9254902 , 0.91764706, ..., 0.6784314 , 0.63529414,\n",
       "        0.6313726 ]], dtype=float32)"
      ]
     },
     "execution_count": 17,
     "metadata": {},
     "output_type": "execute_result"
    }
   ],
   "source": [
    "X = X.to_numpy().reshape(X.shape[0], -1)\n",
    "y = y.to_numpy()\n",
    "X = normal(X)\n",
    "X"
   ]
  },
  {
   "cell_type": "code",
   "execution_count": 18,
   "metadata": {},
   "outputs": [],
   "source": [
    "def one_hot_encode(labels, num_classes):\n",
    "    one_hot = np.zeros((y.shape[0], num_classes))\n",
    "    one_hot[np.arange(y.shape[0]), y] = 1\n",
    "    return one_hot"
   ]
  },
  {
   "cell_type": "code",
   "execution_count": 27,
   "metadata": {},
   "outputs": [],
   "source": [
    "y = one_hot_encode(y_train, num_classes=10)\n"
   ]
  },
  {
   "cell_type": "code",
   "execution_count": 28,
   "metadata": {
    "collapsed": false,
    "jupyter": {
     "outputs_hidden": false
    },
    "pycharm": {
     "name": "#%%\n"
    }
   },
   "outputs": [
    {
     "name": "stdout",
     "output_type": "stream",
     "text": [
      "[[0.13333334 0.14509805 0.17254902 ... 0.19215687 0.1882353  0.22745098]\n",
      " [0.35686275 0.37254903 0.36078432 ... 0.2901961  0.4745098  0.5254902 ]\n",
      " [0.8156863  0.7764706  0.6431373  ... 0.6392157  0.64705884 0.6156863 ]\n",
      " ...\n",
      " [0.41960785 0.49803922 0.45882353 ... 0.13333334 0.13333334 0.13333334]\n",
      " [1.         1.         1.         ... 0.21960784 0.23137255 0.23921569]\n",
      " [0.73333335 0.77254903 0.78431374 ... 0.37254903 0.40392157 0.41568628]]\n"
     ]
    }
   ],
   "source": [
    "X_train, X_test,y_train,y_test = train_test_split(\n",
    "    X,y,\n",
    "    test_size=0.2,\n",
    "    random_state=42,\n",
    ")\n",
    "print(X_train)"
   ]
  },
  {
   "cell_type": "code",
   "execution_count": 29,
   "metadata": {},
   "outputs": [
    {
     "data": {
      "text/plain": [
       "array([[0., 0., 0., ..., 0., 0., 0.],\n",
       "       [0., 0., 1., ..., 0., 0., 0.],\n",
       "       [0., 0., 0., ..., 0., 0., 0.],\n",
       "       ...,\n",
       "       [0., 0., 0., ..., 0., 1., 0.],\n",
       "       [0., 0., 0., ..., 0., 1., 0.],\n",
       "       [0., 0., 0., ..., 0., 1., 0.]])"
      ]
     },
     "execution_count": 29,
     "metadata": {},
     "output_type": "execute_result"
    }
   ],
   "source": [
    "y_train"
   ]
  },
  {
   "cell_type": "code",
   "execution_count": 30,
   "metadata": {
    "collapsed": false,
    "jupyter": {
     "outputs_hidden": false
    },
    "pycharm": {
     "name": "#%%\n"
    }
   },
   "outputs": [],
   "source": [
    "def sigmoid_activation_function(z):\n",
    "        return sigmoid(z) * (1 - sigmoid(z))"
   ]
  },
  {
   "cell_type": "code",
   "execution_count": null,
   "metadata": {},
   "outputs": [],
   "source": [
    "def softmax(z):\n",
    "    exp_z = np.exp(z - np.max(z, axis=1, keepdims=True))\n",
    "    return exp_z / np.sum(exp_z, axis=1, keepdims=True)"
   ]
  },
  {
   "cell_type": "code",
   "execution_count": 31,
   "metadata": {
    "collapsed": false,
    "jupyter": {
     "outputs_hidden": false
    },
    "pycharm": {
     "name": "#%%\n"
    }
   },
   "outputs": [],
   "source": [
    "def sigmoid(z):\n",
    "    return 1 / (1 + np.exp(-z))"
   ]
  },
  {
   "cell_type": "code",
   "execution_count": 37,
   "metadata": {
    "collapsed": false,
    "jupyter": {
     "outputs_hidden": false
    },
    "pycharm": {
     "name": "#%%\n"
    }
   },
   "outputs": [],
   "source": [
    "def binary_cross_entropy(y_true, y_pred):\n",
    "    epsilon = 1e-12\n",
    "    y_pred = np.clip(y_pred, epsilon, 1. - epsilon)\n",
    "    if len(y_pred.shape) == 1:\n",
    "        y_pred = y_pred.reshape(-1, 1)\n",
    "    return -np.mean(np.sum(y_true * np.log(y_pred), axis=1))"
   ]
  },
  {
   "cell_type": "code",
   "execution_count": 50,
   "metadata": {
    "collapsed": false,
    "jupyter": {
     "outputs_hidden": false
    },
    "pycharm": {
     "name": "#%%\n"
    }
   },
   "outputs": [],
   "source": [
    "def forward(X, W1, b1, W2, b2):\n",
    "    \n",
    "    z1 = np.dot(X, W1) + b1\n",
    "    A1 = sigmoid(z1)\n",
    "    \n",
    "    z2 = np.dot(A1, W2) + b2\n",
    "    A2 = softmax(z2)\n",
    "    # A2 = A2.reshape(-1, 1)\n",
    "    \n",
    "    return z1, A1, z2, A2\n",
    "    \n",
    "def compute_loss(y_true, y_pred):\n",
    "        return binary_cross_entropy(y, y_pred)\n",
    "\n",
    "def backward(X, y, Z1, A1, Z2, A2, W1, W2, lr):\n",
    "    \n",
    "    m = X.shape[0]\n",
    "    \n",
    "\n",
    "    dZ2 = A2 - y\n",
    "    dW2 = np.dot(A1.T, dZ2) / m\n",
    "    db2 = np.sum(dZ2, axis=0, keepdims=True) / m\n",
    "    \n",
    "    dA1 = np.dot(dZ2, W2.T)\n",
    "    dZ1 = dA1 * A1 * (1 - A1) \n",
    "    dW1 = np.dot(X.T, dZ1) / m\n",
    "    db1 = np.sum(dZ1, axis=0, keepdims=True) / m\n",
    "\n",
    "    return dW1, db1, dW2, db2\n",
    "\n",
    "\n",
    "def update_parameters(W1, b1, W2, b2, dW1, db1, dW2, db2, lr):\n",
    "    W1 -= lr * dW1\n",
    "    b1 -= lr * db1\n",
    "    W2 -= lr * dW2\n",
    "    b2 -= lr * db2\n",
    "    return W1, b1, W2, b2\n",
    "\n",
    "    return W1, b1, W2, b2\n",
    "def params(input_dim, hidden_dim = 64, output_dim=10):\n",
    "    W1 = np.random.randn(input_dim, hidden_dim) * np.sqrt(2./input_dim)\n",
    "    b1 = np.zeros((1, hidden_dim))\n",
    "    \n",
    "    W2 = np.random.randn(hidden_dim, output_dim) * np.sqrt(1./hidden_dim)\n",
    "    b2 = np.zeros((1, output_dim))\n",
    "    \n",
    "    return W1, b1, W2, b2\n",
    "\n",
    "def softmax(z):\n",
    "    exp_z = np.exp(z - np.max(z, axis=1, keepdims=True)) \n",
    "    return exp_z / np.sum(exp_z, axis=1, keepdims=True)\n",
    "\n",
    "\n",
    "def train(X, y, X_test, y_test, epochs=100, lr=0.1, hidden_dim=64, output_dim=10):\n",
    "    input_dim = X_train.shape[1]\n",
    "    W1, b1, W2, b2 = params(input_dim, hidden_dim, output_dim)\n",
    "    \n",
    "    history = {\n",
    "        'train_loss': [],\n",
    "        'test_loss': [],\n",
    "        'accuracy': []\n",
    "    }\n",
    "    \n",
    "    for epoch in range(epochs):\n",
    "        # Forward pass (train)\n",
    "        Z1, A1, Z2, A2 = forward(X_train, W1, b1, W2, b2)\n",
    "        train_loss = binary_cross_entropy(y_train, A2)\n",
    "        \n",
    "        # Backward pass\n",
    "        dW1, db1, dW2, db2 = backward(X_train, y_train, Z1, A1, Z2, A2, W1, W2, lr)\n",
    "        W1, b1, W2, b2 = update_parameters(W1, b1, W2, b2, dW1, db1, dW2, db2, lr)\n",
    "        # # Evaluation on test set\n",
    "        # #y_pred_test = forward(X_test, y_test, W, b)\n",
    "        # test_loss = 0# binary_cross_entropy(y_test, y_pred_test)\n",
    "        # accuracy = 0#np.mean((y_pred_test >= 0.5).astype(int) == y_test)\n",
    "        \n",
    "        # Store history\n",
    "        history['train_loss'].append(train_loss)\n",
    "        \n",
    "        if epoch % 10 == 0:\n",
    "            print(f\"Epoch {epoch:3d} | Train Loss: {train_loss}\")\n",
    "    \n",
    "    return W1, b1, W2, b2, history\n",
    "        \n",
    "         "
   ]
  },
  {
   "cell_type": "code",
   "execution_count": 47,
   "metadata": {
    "collapsed": false,
    "jupyter": {
     "outputs_hidden": false
    },
    "pycharm": {
     "name": "#%%\n"
    }
   },
   "outputs": [],
   "source": [
    "def predict(X_test, W1, b1, W2, b2):\n",
    "    _, _, _, A2 = forward(X_test, W1, b1, W2, b2)\n",
    "    return (A2 >= 0.5).astype(int)\n"
   ]
  },
  {
   "cell_type": "code",
   "execution_count": 48,
   "metadata": {
    "collapsed": false,
    "jupyter": {
     "outputs_hidden": false
    },
    "pycharm": {
     "name": "#%%\n"
    }
   },
   "outputs": [],
   "source": [
    "def evaluate(y_true, y_pred):\n",
    "    TP = np.sum((y_true == 1) & (y_pred == 1))\n",
    "    FP = np.sum((y_true == 0) & (y_pred == 1))\n",
    "    FN = np.sum((y_true == 1) & (y_pred == 0))\n",
    "    TN = np.sum((y_true == 0) & (y_pred == 0))\n",
    "\n",
    "    precision = TP / (TP + FP + 1e-8)\n",
    "    recall = TP / (TP + FN + 1e-8)\n",
    "    f1 = 2 * precision * recall / (precision + recall + 1e-8)\n",
    "    from sklearn.metrics import classification_report\n",
    "    y_true_labels = np.argmax(y_true, axis=1)\n",
    "    y_pred_labels = np.argmax(y_pred, axis=1)\n",
    "    print(classification_report(y_true_labels, y_pred_labels))\n",
    "    print(f\"Confusion Matrix:\\nTP: {TP}, FP: {FP}\\nFN: {FN}, TN: {TN}\")\n",
    "    print(f\"F1-score: {f1:.4f}\")\n"
   ]
  },
  {
   "cell_type": "code",
   "execution_count": 61,
   "metadata": {
    "collapsed": false,
    "jupyter": {
     "outputs_hidden": false
    },
    "pycharm": {
     "name": "#%%\n"
    },
    "scrolled": true
   },
   "outputs": [
    {
     "name": "stdout",
     "output_type": "stream",
     "text": [
      "Epoch   0 | Train Loss: 2.5058762812585544\n",
      "Epoch  10 | Train Loss: 2.270420476906492\n",
      "Epoch  20 | Train Loss: 2.2393321032965927\n",
      "Epoch  30 | Train Loss: 2.21004840216813\n",
      "Epoch  40 | Train Loss: 2.1831077795212885\n",
      "Epoch  50 | Train Loss: 2.1579739047478714\n",
      "Epoch  60 | Train Loss: 2.1344086658516033\n",
      "Epoch  70 | Train Loss: 2.112360665677736\n",
      "Epoch  80 | Train Loss: 2.0918379674820713\n",
      "Epoch  90 | Train Loss: 2.072846694604499\n",
      "Epoch 100 | Train Loss: 2.0553567305547067\n",
      "Epoch 110 | Train Loss: 2.039297119385927\n",
      "Epoch 120 | Train Loss: 2.0245671633841127\n",
      "Epoch 130 | Train Loss: 2.011050827964946\n",
      "Epoch 140 | Train Loss: 1.998628515778542\n",
      "Epoch 150 | Train Loss: 1.9871849845507976\n",
      "Epoch 160 | Train Loss: 1.97661397397537\n",
      "Epoch 170 | Train Loss: 1.966820352751582\n",
      "Epoch 180 | Train Loss: 1.9577205261318658\n",
      "Epoch 190 | Train Loss: 1.9492417759103549\n",
      "Epoch 200 | Train Loss: 1.9413210760638908\n",
      "Epoch 210 | Train Loss: 1.933903748282267\n",
      "Epoch 220 | Train Loss: 1.9269421595588068\n",
      "Epoch 230 | Train Loss: 1.9203945530417978\n",
      "Epoch 240 | Train Loss: 1.914224041208103\n",
      "Epoch 250 | Train Loss: 1.9083977625457207\n",
      "Epoch 260 | Train Loss: 1.9028861945171867\n",
      "Epoch 270 | Train Loss: 1.89766261389742\n",
      "Epoch 280 | Train Loss: 1.892702691782954\n",
      "Epoch 290 | Train Loss: 1.88798420259085\n",
      "Epoch 300 | Train Loss: 1.8834868186060798\n",
      "Epoch 310 | Train Loss: 1.8791919596144893\n",
      "Epoch 320 | Train Loss: 1.8750826721428075\n",
      "Epoch 330 | Train Loss: 1.8711435215692909\n",
      "Epoch 340 | Train Loss: 1.8673604886709116\n",
      "Epoch 350 | Train Loss: 1.8637208677616741\n",
      "Epoch 360 | Train Loss: 1.8602131663677581\n",
      "Epoch 370 | Train Loss: 1.856827007331941\n",
      "Epoch 380 | Train Loss: 1.8535530343124988\n",
      "Epoch 390 | Train Loss: 1.8503828214391769\n",
      "Epoch 400 | Train Loss: 1.8473087876682512\n",
      "Epoch 410 | Train Loss: 1.844324116205632\n",
      "Epoch 420 | Train Loss: 1.841422679234116\n",
      "Epoch 430 | Train Loss: 1.8385989680689556\n",
      "Epoch 440 | Train Loss: 1.8358480287636987\n",
      "Epoch 450 | Train Loss: 1.8331654030939961\n",
      "Epoch 460 | Train Loss: 1.8305470747640047\n",
      "Epoch 470 | Train Loss: 1.8279894206120912\n",
      "Epoch 480 | Train Loss: 1.8254891665421376\n",
      "Epoch 490 | Train Loss: 1.8230433478740222\n",
      "Epoch 500 | Train Loss: 1.8206492737899926\n",
      "Epoch 510 | Train Loss: 1.818304495549799\n",
      "Epoch 520 | Train Loss: 1.8160067781533544\n",
      "Epoch 530 | Train Loss: 1.8137540751422603\n",
      "Epoch 540 | Train Loss: 1.8115445062482225\n",
      "Epoch 550 | Train Loss: 1.8093763376152057\n",
      "Epoch 560 | Train Loss: 1.807247964341797\n",
      "Epoch 570 | Train Loss: 1.8051578951097207\n",
      "Epoch 580 | Train Loss: 1.8031047386832884\n",
      "Epoch 590 | Train Loss: 1.801087192082507\n",
      "Epoch 600 | Train Loss: 1.799104030249445\n",
      "Epoch 610 | Train Loss: 1.7971540970433113\n",
      "Epoch 620 | Train Loss: 1.7952362974145009\n",
      "Epoch 630 | Train Loss: 1.7933495906216925\n",
      "Epoch 640 | Train Loss: 1.7914929843689358\n",
      "Epoch 650 | Train Loss: 1.7896655297516466\n",
      "Epoch 660 | Train Loss: 1.7878663169115043\n",
      "Epoch 670 | Train Loss: 1.7860944713105091\n",
      "Epoch 680 | Train Loss: 1.784349150543909\n",
      "Epoch 690 | Train Loss: 1.7826295416203903\n",
      "Epoch 700 | Train Loss: 1.7809348586458782\n",
      "Epoch 710 | Train Loss: 1.7792643408545714\n",
      "Epoch 720 | Train Loss: 1.7776172509374133\n",
      "Epoch 730 | Train Loss: 1.7759928736242152\n",
      "Epoch 740 | Train Loss: 1.77439051448105\n",
      "Epoch 750 | Train Loss: 1.7728094988893954\n",
      "Epoch 760 | Train Loss: 1.7712491711779061\n",
      "Epoch 770 | Train Loss: 1.769708893881564\n",
      "Epoch 780 | Train Loss: 1.7681880471064735\n",
      "Epoch 790 | Train Loss: 1.766686027981629\n",
      "Epoch 800 | Train Loss: 1.765202250181723\n",
      "Epoch 810 | Train Loss: 1.7637361435074679\n",
      "Epoch 820 | Train Loss: 1.76228715351199\n",
      "Epoch 830 | Train Loss: 1.7608547411637159\n",
      "Epoch 840 | Train Loss: 1.7594383825377444\n",
      "Epoch 850 | Train Loss: 1.758037568529092\n",
      "Epoch 860 | Train Loss: 1.756651804582379\n",
      "Epoch 870 | Train Loss: 1.755280610433545\n",
      "Epoch 880 | Train Loss: 1.7539235198600596\n",
      "Epoch 890 | Train Loss: 1.752580080436813\n",
      "Epoch 900 | Train Loss: 1.7512498532955145\n",
      "Epoch 910 | Train Loss: 1.7499324128859388\n",
      "Epoch 920 | Train Loss: 1.7486273467377977\n",
      "Epoch 930 | Train Loss: 1.747334255222377\n",
      "Epoch 940 | Train Loss: 1.7460527513133777\n",
      "Epoch 950 | Train Loss: 1.744782460346639\n",
      "Epoch 960 | Train Loss: 1.743523019778617\n",
      "Epoch 970 | Train Loss: 1.7422740789436386\n",
      "Epoch 980 | Train Loss: 1.7410352988100848\n",
      "Epoch 990 | Train Loss: 1.7398063517357287\n",
      "Epoch 1000 | Train Loss: 1.738586921222528\n",
      "Epoch 1010 | Train Loss: 1.7373767016712136\n",
      "Epoch 1020 | Train Loss: 1.7361753981360397\n",
      "Epoch 1030 | Train Loss: 1.7349827260800696\n",
      "Epoch 1040 | Train Loss: 1.7337984111313767\n",
      "Epoch 1050 | Train Loss: 1.732622188840518\n",
      "Epoch 1060 | Train Loss: 1.7314538044396341\n",
      "Epoch 1070 | Train Loss: 1.7302930126034837\n",
      "Epoch 1080 | Train Loss: 1.7291395772127112\n",
      "Epoch 1090 | Train Loss: 1.727993271119596\n",
      "Epoch 1100 | Train Loss: 1.7268538759165146\n",
      "Epoch 1110 | Train Loss: 1.7257211817072897\n",
      "Epoch 1120 | Train Loss: 1.7245949868815864\n",
      "Epoch 1130 | Train Loss: 1.7234750978924624\n",
      "Epoch 1140 | Train Loss: 1.7223613290371618\n",
      "Epoch 1150 | Train Loss: 1.7212535022411946\n",
      "Epoch 1160 | Train Loss: 1.7201514468457324\n",
      "Epoch 1170 | Train Loss: 1.7190549993983049\n",
      "Epoch 1180 | Train Loss: 1.717964003446784\n",
      "Epoch 1190 | Train Loss: 1.716878309336596\n",
      "Epoch 1200 | Train Loss: 1.7157977740111083\n",
      "Epoch 1210 | Train Loss: 1.7147222608151038\n",
      "Epoch 1220 | Train Loss: 1.7136516393012708\n",
      "Epoch 1230 | Train Loss: 1.7125857850396073\n",
      "Epoch 1240 | Train Loss: 1.7115245794296425\n",
      "Epoch 1250 | Train Loss: 1.7104679095153856\n",
      "Epoch 1260 | Train Loss: 1.7094156678029082\n",
      "Epoch 1270 | Train Loss: 1.7083677520804645\n",
      "Epoch 1280 | Train Loss: 1.707324065241075\n",
      "Epoch 1290 | Train Loss: 1.7062845151075021\n",
      "Epoch 1300 | Train Loss: 1.7052490142595502\n",
      "Epoch 1310 | Train Loss: 1.7042174798636551\n",
      "Epoch 1320 | Train Loss: 1.7031898335047175\n",
      "Epoch 1330 | Train Loss: 1.7021660010201736\n",
      "Epoch 1340 | Train Loss: 1.7011459123362973\n",
      "Epoch 1350 | Train Loss: 1.700129501306749\n",
      "Epoch 1360 | Train Loss: 1.6991167055534104\n",
      "Epoch 1370 | Train Loss: 1.6981074663095457\n",
      "Epoch 1380 | Train Loss: 1.697101728265356\n",
      "Epoch 1390 | Train Loss: 1.6960994394160156\n",
      "Epoch 1400 | Train Loss: 1.6951005509122683\n",
      "Epoch 1410 | Train Loss: 1.6941050169136957\n",
      "Epoch 1420 | Train Loss: 1.6931127944447726\n",
      "Epoch 1430 | Train Loss: 1.6921238432538288\n",
      "Epoch 1440 | Train Loss: 1.6911381256750373\n",
      "Epoch 1450 | Train Loss: 1.6901556064935686\n",
      "Epoch 1460 | Train Loss: 1.6891762528140302\n",
      "Epoch 1470 | Train Loss: 1.6882000339323255\n",
      "Epoch 1480 | Train Loss: 1.687226921211044\n",
      "Epoch 1490 | Train Loss: 1.6862568879585045\n",
      "Epoch 1500 | Train Loss: 1.6852899093115539\n",
      "Epoch 1510 | Train Loss: 1.6843259621222118\n",
      "Epoch 1520 | Train Loss: 1.683365024848246\n",
      "Epoch 1530 | Train Loss: 1.6824070774477398\n",
      "Epoch 1540 | Train Loss: 1.6814521012777073\n",
      "Epoch 1550 | Train Loss: 1.6805000789967897\n",
      "Epoch 1560 | Train Loss: 1.679550994472046\n",
      "Epoch 1570 | Train Loss: 1.6786048326898542\n",
      "Epoch 1580 | Train Loss: 1.6776615796708931\n",
      "Epoch 1590 | Train Loss: 1.6767212223891863\n",
      "Epoch 1600 | Train Loss: 1.6757837486951612\n",
      "Epoch 1610 | Train Loss: 1.674849147242663\n",
      "Epoch 1620 | Train Loss: 1.6739174074198548\n",
      "Epoch 1630 | Train Loss: 1.6729885192839185\n",
      "Epoch 1640 | Train Loss: 1.672062473499465\n",
      "Epoch 1650 | Train Loss: 1.671139261280545\n",
      "Epoch 1660 | Train Loss: 1.6702188743361575\n",
      "Epoch 1670 | Train Loss: 1.6693013048191303\n",
      "Epoch 1680 | Train Loss: 1.668386545278251\n",
      "Epoch 1690 | Train Loss: 1.667474588613522\n",
      "Epoch 1700 | Train Loss: 1.6665654280344069\n",
      "Epoch 1710 | Train Loss: 1.665659057020931\n",
      "Epoch 1720 | Train Loss: 1.6647554692875144\n",
      "Epoch 1730 | Train Loss: 1.6638546587493834\n",
      "Epoch 1740 | Train Loss: 1.6629566194914438\n",
      "Epoch 1750 | Train Loss: 1.6620613457394735\n",
      "Epoch 1760 | Train Loss: 1.6611688318335103\n",
      "Epoch 1770 | Train Loss: 1.6602790722032972\n",
      "Epoch 1780 | Train Loss: 1.6593920613456783\n",
      "Epoch 1790 | Train Loss: 1.6585077938038009\n",
      "Epoch 1800 | Train Loss: 1.6576262641480286\n",
      "Epoch 1810 | Train Loss: 1.6567474669584408\n",
      "Epoch 1820 | Train Loss: 1.6558713968088108\n",
      "Epoch 1830 | Train Loss: 1.6549980482519655\n",
      "Epoch 1840 | Train Loss: 1.6541274158064196\n",
      "Epoch 1850 | Train Loss: 1.6532594939441987\n",
      "Epoch 1860 | Train Loss: 1.6523942770797577\n",
      "Epoch 1870 | Train Loss: 1.6515317595599106\n",
      "Epoch 1880 | Train Loss: 1.650671935654695\n",
      "Epoch 1890 | Train Loss: 1.6498147995490982\n",
      "Epoch 1900 | Train Loss: 1.648960345335571\n",
      "Epoch 1910 | Train Loss: 1.6481085670072713\n",
      "Epoch 1920 | Train Loss: 1.6472594584519702\n",
      "Epoch 1930 | Train Loss: 1.6464130134465729\n",
      "Epoch 1940 | Train Loss: 1.645569225652199\n",
      "Epoch 1950 | Train Loss: 1.6447280886097728\n",
      "Epoch 1960 | Train Loss: 1.6438895957360853\n",
      "Epoch 1970 | Train Loss: 1.6430537403202863\n",
      "Epoch 1980 | Train Loss: 1.642220515520771\n",
      "Epoch 1990 | Train Loss: 1.6413899143624275\n"
     ]
    }
   ],
   "source": [
    "W1, b1, W2, b2, h= train(X_train, y_train, X_test, y_test, 2000, 0.1)"
   ]
  },
  {
   "cell_type": "code",
   "execution_count": 62,
   "metadata": {},
   "outputs": [],
   "source": [
    "y_pred = predict(X_test, W1, b1, W2, b2)"
   ]
  },
  {
   "cell_type": "code",
   "execution_count": 63,
   "metadata": {},
   "outputs": [
    {
     "name": "stdout",
     "output_type": "stream",
     "text": [
      "              precision    recall  f1-score   support\n",
      "\n",
      "           0       0.11      0.91      0.19       973\n",
      "           1       0.73      0.25      0.37       979\n",
      "           2       0.75      0.00      0.01      1030\n",
      "           3       0.57      0.01      0.02      1023\n",
      "           4       0.64      0.03      0.05       933\n",
      "           5       0.74      0.06      0.11      1015\n",
      "           6       0.59      0.11      0.19       996\n",
      "           7       0.70      0.17      0.28       994\n",
      "           8       0.74      0.29      0.42      1017\n",
      "           9       0.68      0.21      0.32      1040\n",
      "\n",
      "    accuracy                           0.20     10000\n",
      "   macro avg       0.63      0.20      0.20     10000\n",
      "weighted avg       0.63      0.20      0.20     10000\n",
      "\n",
      "Confusion Matrix:\n",
      "TP: 1339, FP: 564\n",
      "FN: 8661, TN: 89436\n",
      "F1-score: 0.2250\n"
     ]
    }
   ],
   "source": [
    "evaluate(y_test, y_pred)"
   ]
  },
  {
   "cell_type": "code",
   "execution_count": 64,
   "metadata": {
    "collapsed": false,
    "jupyter": {
     "outputs_hidden": false
    },
    "pycharm": {
     "name": "#%%\n"
    }
   },
   "outputs": [
    {
     "data": {
      "image/png": "[encoded data removed]",
      "text/plain": [
       "<Figure size 640x480 with 1 Axes>"
      ]
     },
     "metadata": {},
     "output_type": "display_data"
    }
   ],
   "source": [
    "plt.plot(h['train_loss'], label='Train Loss')\n",
    "plt.title('Loss')\n",
    "plt.xlabel('Epoch')\n",
    "plt.ylabel('Loss')\n",
    "plt.show()"
   ]
  },
  {
   "cell_type": "code",
   "execution_count": null,
   "metadata": {},
   "outputs": [],
   "source": []
  }
 ],
 "metadata": {
  "colab": {
   "provenance": []
  },
  "kernelspec": {
   "display_name": "Python 3 (ipykernel)",
   "language": "python",
   "name": "python3"
  },
  "language_info": {
   "codemirror_mode": {
    "name": "ipython",
    "version": 3
   },
   "file_extension": ".py",
   "mimetype": "text/x-python",
   "name": "python",
   "nbconvert_exporter": "python",
   "pygments_lexer": "ipython3",
   "version": "3.9.6"
  }
 },
 "nbformat": 4,
 "nbformat_minor": 4
}