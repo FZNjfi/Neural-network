{
 "cells": [
  {
   "cell_type": "code",
   "execution_count": 1,
   "metadata": {
    "collapsed": false,
    "jupyter": {
     "outputs_hidden": false
    },
    "pycharm": {
     "is_executing": true,
     "name": "#%%\n"
    }
   },
   "outputs": [],
   "source": [
    "import numpy as np\n",
    "import matplotlib.pyplot as plt\n",
    "import pandas as pd\n",
    "import seaborn as sns\n",
    "from scipy.stats import zscore\n",
    "from sklearn.model_selection import train_test_split"
   ]
  },
  {
   "cell_type": "code",
   "execution_count": 2,
   "metadata": {
    "collapsed": false,
    "jupyter": {
     "outputs_hidden": false
    },
    "pycharm": {
     "name": "#%%\n"
    }
   },
   "outputs": [
    {
     "name": "stdout",
     "output_type": "stream",
     "text": [
      "            pixel_0      pixel_1       pixel_2       pixel_3       pixel_4  \\\n",
      "count  50000.000000  50000.00000  50000.000000  50000.000000  50000.000000   \n",
      "mean     130.710740    130.14036    131.050440    131.568860    132.184700   \n",
      "std       73.412873     72.44259     72.240546     72.016555     71.714551   \n",
      "min        0.000000      0.00000      0.000000      0.000000      0.000000   \n",
      "25%       71.000000     71.00000     73.000000     73.000000     75.000000   \n",
      "50%      128.000000    127.00000    129.000000    130.000000    130.000000   \n",
      "75%      189.000000    188.00000    188.000000    188.000000    189.000000   \n",
      "max      255.000000    255.00000    255.000000    255.000000    255.000000   \n",
      "\n",
      "            pixel_5       pixel_6       pixel_7       pixel_8      pixel_9  \\\n",
      "count  50000.000000  50000.000000  50000.000000  50000.000000  50000.00000   \n",
      "mean     132.851840    133.371540    133.890920    134.485040    134.93260   \n",
      "std       71.537505     71.353558     71.281237     71.071698     71.03647   \n",
      "min        0.000000      0.000000      0.000000      0.000000      0.00000   \n",
      "25%       75.000000     76.000000     76.750000     78.000000     78.00000   \n",
      "50%      131.000000    132.000000    132.000000    133.000000    134.00000   \n",
      "75%      190.000000    190.000000    191.000000    191.000000    192.00000   \n",
      "max      255.000000    255.000000    255.000000    255.000000    255.00000   \n",
      "\n",
      "       ...    pixel_3063    pixel_3064    pixel_3065    pixel_3066  \\\n",
      "count  ...  50000.000000  50000.000000  50000.000000  50000.000000   \n",
      "mean   ...    113.716260    113.735320    113.778520    113.813200   \n",
      "std    ...     64.345623     64.431996     64.401897     64.502684   \n",
      "min    ...      0.000000      0.000000      0.000000      0.000000   \n",
      "25%    ...     64.000000     64.000000     64.000000     64.000000   \n",
      "50%    ...    106.000000    106.000000    106.000000    106.000000   \n",
      "75%    ...    157.000000    157.000000    157.000000    157.000000   \n",
      "max    ...    255.000000    255.000000    255.000000    255.000000   \n",
      "\n",
      "         pixel_3067    pixel_3068    pixel_3069    pixel_3070    pixel_3071  \\\n",
      "count  50000.000000  50000.000000  50000.000000  50000.000000  50000.000000   \n",
      "mean     113.864120    113.877800    113.830580    113.906240    114.381860   \n",
      "std       64.511269     64.738943     64.894603     65.212671     66.077526   \n",
      "min        0.000000      0.000000      0.000000      0.000000      0.000000   \n",
      "25%       64.000000     64.000000     64.000000     64.000000     63.000000   \n",
      "50%      106.000000    106.000000    106.000000    106.000000    106.000000   \n",
      "75%      157.000000    157.000000    157.000000    157.000000    158.000000   \n",
      "max      255.000000    255.000000    255.000000    255.000000    255.000000   \n",
      "\n",
      "             label  \n",
      "count  50000.00000  \n",
      "mean       4.50000  \n",
      "std        2.87231  \n",
      "min        0.00000  \n",
      "25%        2.00000  \n",
      "50%        4.50000  \n",
      "75%        7.00000  \n",
      "max        9.00000  \n",
      "\n",
      "[8 rows x 3073 columns] \n",
      "\n"
     ]
    }
   ],
   "source": [
    "try:\n",
    "        data = pd.read_csv(\"train.csv\")\n",
    "        print(data.describe(),\"\\n\")\n",
    "except Exception as e:\n",
    "        print(\"Error! data not  found.\")"
   ]
  },
  {
   "cell_type": "code",
   "execution_count": 3,
   "metadata": {
    "collapsed": false,
    "jupyter": {
     "outputs_hidden": false
    },
    "pycharm": {
     "name": "#%%\n"
    }
   },
   "outputs": [
    {
     "data": {
      "text/plain": [
       "0        6\n",
       "1        9\n",
       "2        9\n",
       "3        4\n",
       "4        1\n",
       "        ..\n",
       "49995    2\n",
       "49996    6\n",
       "49997    9\n",
       "49998    1\n",
       "49999    1\n",
       "Name: label, Length: 50000, dtype: int64"
      ]
     },
     "execution_count": 3,
     "metadata": {},
     "output_type": "execute_result"
    }
   ],
   "source": [
    "X = data.drop(columns=['label'])\n",
    "y = data['label']\n",
    "y"
   ]
  },
  {
   "cell_type": "code",
   "execution_count": 4,
   "metadata": {
    "collapsed": false,
    "jupyter": {
     "outputs_hidden": false
    },
    "pycharm": {
     "name": "#%%\n"
    }
   },
   "outputs": [],
   "source": [
    "def check_missing_values():\n",
    "    missing = X.isnull().sum()\n",
    "    missing = missing[missing > 0]\n",
    "    if not missing.empty:\n",
    "        print(missing)\n",
    "    else:\n",
    "        print(\"\\n No Missing Data \\n\")\n",
    "\n",
    "def detect_outliers(z_thresh=3.29):\n",
    "    for col in X.columns:\n",
    "        if pd.api.types.is_numeric_dtype(X[col]):\n",
    "            z_scores = zscore(X[col])\n",
    "            outliers = (abs(z_scores) > z_thresh)\n",
    "            num_outliers = outliers.sum()\n",
    "            # rint(f\"col '{col}': {num_outliers} outlier found.\")\n",
    "            #filtered_data = data[np.abs(z_scores) <= z_thresh]\n",
    "def normal(X):\n",
    "    return X.reshape(X.shape[0], -1).astype(np.float32) / 255.0\n",
    "\n",
    "def plot_distributions():\n",
    "    for col in X_train.columns:\n",
    "        if pd.api.types.is_numeric_dtype(X_train[col]):\n",
    "            plt.figure(figsize=(6,4))\n",
    "            sns.histplot(X_train[col], kde=True)\n",
    "            plt.title(f\"Distribution of {col}\")\n",
    "            plt.show()\n",
    "        else:\n",
    "          print(\"\\n\",col, \"is not numeric\")"
   ]
  },
  {
   "cell_type": "code",
   "execution_count": 5,
   "metadata": {
    "collapsed": false,
    "jupyter": {
     "outputs_hidden": false
    },
    "pycharm": {
     "name": "#%%\n"
    }
   },
   "outputs": [
    {
     "data": {
      "text/plain": [
       "array([[0.23137255, 0.16862746, 0.19607843, ..., 0.54901963, 0.32941177,\n",
       "        0.28235295],\n",
       "       [0.6039216 , 0.49411765, 0.4117647 , ..., 0.54509807, 0.5568628 ,\n",
       "        0.5647059 ],\n",
       "       [1.        , 0.99215686, 0.99215686, ..., 0.3254902 , 0.3254902 ,\n",
       "        0.32941177],\n",
       "       ...,\n",
       "       [0.13725491, 0.15686275, 0.16470589, ..., 0.3019608 , 0.25882354,\n",
       "        0.19607843],\n",
       "       [0.7411765 , 0.7294118 , 0.7254902 , ..., 0.6627451 , 0.67058825,\n",
       "        0.67058825],\n",
       "       [0.8980392 , 0.9254902 , 0.91764706, ..., 0.6784314 , 0.63529414,\n",
       "        0.6313726 ]], dtype=float32)"
      ]
     },
     "execution_count": 5,
     "metadata": {},
     "output_type": "execute_result"
    }
   ],
   "source": [
    "X = X.to_numpy().reshape(X.shape[0], -1)\n",
    "y = y.to_numpy()\n",
    "X = normal(X)\n",
    "X"
   ]
  },
  {
   "cell_type": "code",
   "execution_count": 6,
   "metadata": {},
   "outputs": [],
   "source": [
    "def one_hot_encode(labels, num_classes):\n",
    "    one_hot = np.zeros((y.shape[0], num_classes))\n",
    "    one_hot[np.arange(y.shape[0]), y] = 1\n",
    "    return one_hot"
   ]
  },
  {
   "cell_type": "code",
   "execution_count": 7,
   "metadata": {},
   "outputs": [],
   "source": [
    "y = one_hot_encode(y, num_classes=10)\n"
   ]
  },
  {
   "cell_type": "code",
   "execution_count": 8,
   "metadata": {
    "collapsed": false,
    "jupyter": {
     "outputs_hidden": false
    },
    "pycharm": {
     "name": "#%%\n"
    }
   },
   "outputs": [
    {
     "name": "stdout",
     "output_type": "stream",
     "text": [
      "[[0.13333334 0.14509805 0.17254902 ... 0.19215687 0.1882353  0.22745098]\n",
      " [0.35686275 0.37254903 0.36078432 ... 0.2901961  0.4745098  0.5254902 ]\n",
      " [0.8156863  0.7764706  0.6431373  ... 0.6392157  0.64705884 0.6156863 ]\n",
      " ...\n",
      " [0.41960785 0.49803922 0.45882353 ... 0.13333334 0.13333334 0.13333334]\n",
      " [1.         1.         1.         ... 0.21960784 0.23137255 0.23921569]\n",
      " [0.73333335 0.77254903 0.78431374 ... 0.37254903 0.40392157 0.41568628]]\n"
     ]
    }
   ],
   "source": [
    "X_train, X_test,y_train,y_test = train_test_split(\n",
    "    X,y,\n",
    "    test_size=0.2,\n",
    "    random_state=42,\n",
    ")\n",
    "print(X_train)"
   ]
  },
  {
   "cell_type": "code",
   "execution_count": 9,
   "metadata": {},
   "outputs": [
    {
     "data": {
      "text/plain": [
       "array([[0., 0., 0., ..., 0., 0., 0.],\n",
       "       [0., 0., 1., ..., 0., 0., 0.],\n",
       "       [0., 0., 0., ..., 0., 0., 0.],\n",
       "       ...,\n",
       "       [0., 0., 0., ..., 0., 1., 0.],\n",
       "       [0., 0., 0., ..., 0., 1., 0.],\n",
       "       [0., 0., 0., ..., 0., 1., 0.]])"
      ]
     },
     "execution_count": 9,
     "metadata": {},
     "output_type": "execute_result"
    }
   ],
   "source": [
    "y_train"
   ]
  },
  {
   "cell_type": "code",
   "execution_count": 10,
   "metadata": {
    "collapsed": false,
    "jupyter": {
     "outputs_hidden": false
    },
    "pycharm": {
     "name": "#%%\n"
    }
   },
   "outputs": [],
   "source": [
    "def sigmoid_activation_function(z):\n",
    "        return sigmoid(z) * (1 - sigmoid(z))"
   ]
  },
  {
   "cell_type": "code",
   "execution_count": 11,
   "metadata": {},
   "outputs": [],
   "source": [
    "def relu(z):\n",
    "    return np.maximum(0, z)\n",
    "\n",
    "def relu_derivative(z):\n",
    "    return (z > 0).astype(float)\n",
    "\n",
    "def he_initialization(shape):\n",
    "    return np.random.randn(*shape) * np.sqrt(2. / shape[0])"
   ]
  },
  {
   "cell_type": "code",
   "execution_count": 12,
   "metadata": {},
   "outputs": [],
   "source": [
    "class MomentumOptimizer:\n",
    "    def __init__(self, lr=0.01, momentum=0.9):\n",
    "        self.lr = lr\n",
    "        self.momentum = momentum\n",
    "        self.v = {}\n",
    "    \n",
    "    def update(self, params, grads):\n",
    "        if not self.v:\n",
    "            for key in params.keys():\n",
    "                self.v[key] = np.zeros_like(params[key])\n",
    "        \n",
    "        for key in params.keys():\n",
    "            self.v[key] = self.momentum * self.v[key] + self.lr * grads[key]\n",
    "            params[key] -= self.v[key]"
   ]
  },
  {
   "cell_type": "code",
   "execution_count": 13,
   "metadata": {
    "collapsed": false,
    "jupyter": {
     "outputs_hidden": false
    },
    "pycharm": {
     "name": "#%%\n"
    }
   },
   "outputs": [],
   "source": [
    "def sigmoid(z):\n",
    "    return 1 / (1 + np.exp(-z))"
   ]
  },
  {
   "cell_type": "code",
   "execution_count": 14,
   "metadata": {},
   "outputs": [],
   "source": [
    "def softmax(z):\n",
    "    exp_z = np.exp(z - np.max(z, axis=1, keepdims=True))  \n",
    "    return exp_z / np.sum(exp_z, axis=1, keepdims=True)"
   ]
  },
  {
   "cell_type": "code",
   "execution_count": 15,
   "metadata": {
    "collapsed": false,
    "jupyter": {
     "outputs_hidden": false
    },
    "pycharm": {
     "name": "#%%\n"
    }
   },
   "outputs": [],
   "source": [
    "def binary_cross_entropy(y_true, y_pred):\n",
    "    epsilon = 1e-12\n",
    "    y_pred = np.clip(y_pred, epsilon, 1. - epsilon)\n",
    "    if len(y_pred.shape) == 1:\n",
    "        y_pred = y_pred.reshape(-1, 1)\n",
    "    return -np.mean(np.sum(y_true * np.log(y_pred), axis=1))"
   ]
  },
  {
   "cell_type": "code",
   "execution_count": 18,
   "metadata": {
    "collapsed": false,
    "jupyter": {
     "outputs_hidden": false
    },
    "pycharm": {
     "name": "#%%\n"
    }
   },
   "outputs": [],
   "source": [
    "class NeuralNetwork:\n",
    "    def __init__(self, layer_dims, activations, initializer='he', optimizer='momentum', lr=0.01):\n",
    "        self.params = {}\n",
    "        self.activations = activations\n",
    "        self.optimizer = optimizer\n",
    "        self.lr=lr\n",
    "        for l in range(1, len(layer_dims)):\n",
    "            if initializer == 'he':\n",
    "                self.params[f'W{l}'] = he_initialization((layer_dims[l-1], layer_dims[l]))\n",
    "            elif initializer == 'xavier':\n",
    "                self.params[f'W{l}'] = xavier_initialization((layer_dims[l-1], layer_dims[l]))\n",
    "            self.params[f'b{l}'] = np.zeros((1, layer_dims[l]))\n",
    "    \n",
    "    def forward(self, X):\n",
    "        caches = []\n",
    "        A = X\n",
    "        L = len(self.params) // 2\n",
    "        \n",
    "        for l in range(1, L):\n",
    "            W = self.params[f'W{l}']\n",
    "            b = self.params[f'b{l}']\n",
    "            Z = np.dot(A, W) + b\n",
    "            A = self._apply_activation(Z, self.activations[l-1])\n",
    "            caches.append((Z, A))\n",
    "        \n",
    "        W = self.params[f'W{L}']\n",
    "        b = self.params[f'b{L}']\n",
    "        Z = np.dot(A, W) + b\n",
    "        A = softmax(Z)\n",
    "        caches.append((Z, A))\n",
    "        \n",
    "        return A, caches\n",
    "    \n",
    "    def _apply_activation(self, z, activation):\n",
    "        if activation == 'relu':\n",
    "            return relu(z)\n",
    "        elif activation == 'sigmoid':\n",
    "            return sigmoid(z)\n",
    "        elif activation == 'tanh':\n",
    "            return np.tanh(z)\n",
    "    def _activation_derivative(self, z, activation_name):\n",
    "            if activation_name == 'relu':\n",
    "                return (z > 0).astype(float)\n",
    "            elif activation_name == 'sigmoid':\n",
    "                s = 1 / (1 + np.exp(-z))\n",
    "                return s * (1 - s)  \n",
    "            elif activation_name == 'tanh':\n",
    "                return 1 - np.tanh(z)**2\n",
    "            else:\n",
    "                raise ValueError(f\"error.\")\n",
    "\n",
    "    def train(self, X, y, epochs=100, lr=0.01, batch_size=32, val_data=None):\n",
    "        history = {'train_loss': [], 'train_acc': [], 'val_loss': [], 'val_acc': []}\n",
    "        self.lr=lr\n",
    "        for epoch in range(epochs):\n",
    "            for i in range(0, X.shape[0], batch_size):\n",
    "                X_batch = X[i:i+batch_size]\n",
    "                y_batch = y[i:i+batch_size]\n",
    "                \n",
    "                # Forward , backward\n",
    "                A, caches = self.forward(X_batch)\n",
    "                grads = self.backward(X_batch, y_batch, caches)\n",
    "                \n",
    "                self.update_params(grads, lr)\n",
    "            \n",
    "            \n",
    "            train_loss, train_acc = self.evaluate(X, y)\n",
    "            history['train_loss'].append(train_loss)\n",
    "            history['train_acc'].append(train_acc)\n",
    "            \n",
    "            if val_data is not None:\n",
    "                val_loss, val_acc = self.evaluate(val_data[0], val_data[1])\n",
    "                history['val_loss'].append(val_loss)\n",
    "                history['val_acc'].append(val_acc)\n",
    "            \n",
    "                print(f\"Epoch {epoch}: Train Loss={train_loss:.4f}, Acc={train_acc:.4f} | Val Loss={val_loss:.4f}, Acc={val_acc:.4f}\")\n",
    "        \n",
    "        return history\n",
    "    def backward(self, X_batch, y_batch, caches):\n",
    "    \n",
    "        grads = {}\n",
    "        L = len(self.params) // 2  \n",
    "        m = X_batch.shape[0]  \n",
    "        \n",
    "       \n",
    "        dZ = caches[-1][1] - y_batch  \n",
    "        grads[f'dW{L}'] = np.dot(caches[-2][1].T, dZ) / m\n",
    "        grads[f'db{L}'] = np.sum(dZ, axis=0, keepdims=True) / m\n",
    "        \n",
    "        \n",
    "        for l in reversed(range(L-1)):\n",
    "            dA = np.dot(dZ, self.params[f'W{l+2}'].T)\n",
    "            dZ = dA * self._activation_derivative(caches[l][0], self.activations[l])\n",
    "            grads[f'dW{l+1}'] = np.dot(caches[l-1][1].T if l > 0 else X_batch.T, dZ) / m\n",
    "            grads[f'db{l+1}'] = np.sum(dZ, axis=0, keepdims=True) / m\n",
    "        \n",
    "        return grads\n",
    "    def update_params(self, grads, lr=None, t=1):\n",
    "        if lr is None:\n",
    "            lr = self.lr \n",
    "    \n",
    "        beta1 = 0.9\n",
    "        beta2 = 0.999\n",
    "        eps = 1e-8\n",
    "    \n",
    "        if self.optimizer == \"momentum\" and not hasattr(self, \"velocities\"):\n",
    "            self.velocities = {}\n",
    "            for key in self.params:\n",
    "                self.velocities[key] = np.zeros_like(self.params[key])\n",
    "    \n",
    "        if self.optimizer == \"adam\" and not hasattr(self, \"m\"):\n",
    "            self.m, self.v = {}, {}\n",
    "            for key in self.params:\n",
    "                self.m[key] = np.zeros_like(self.params[key])\n",
    "                self.v[key] = np.zeros_like(self.params[key])\n",
    "    \n",
    "        for key in self.params:\n",
    "            grad_key = \"d\" + key\n",
    "            if grad_key not in grads:\n",
    "                continue\n",
    "    \n",
    "            if self.optimizer == \"sgd\":\n",
    "                self.params[key] -= lr * grads[grad_key]\n",
    "    \n",
    "            elif self.optimizer == \"momentum\":\n",
    "                self.velocities[key] = 0.9 * self.velocities[key] - lr * grads[grad_key]\n",
    "                self.params[key] += self.velocities[key]\n",
    "    \n",
    "            elif self.optimizer == \"adam\":\n",
    "                self.m[key] = beta1 * self.m[key] + (1 - beta1) * grads[grad_key]\n",
    "                self.v[key] = beta2 * self.v[key] + (1 - beta2) * (grads[grad_key] ** 2)\n",
    "    \n",
    "                m_hat = self.m[key] / (1 - beta1 ** t)\n",
    "                v_hat = self.v[key] / (1 - beta2 ** t)\n",
    "    \n",
    "                self.params[key] -= lr * m_hat / (np.sqrt(v_hat) + eps)\n",
    "\n",
    "    def evaluate(self, X, y):\n",
    "        A, _ = self.forward(X)\n",
    "\n",
    "        loss = self._compute_loss(y, A)\n",
    "\n",
    "        predictions = np.argmax(A, axis=1)\n",
    "        true_labels = np.argmax(y, axis=1)\n",
    "        accuracy = np.mean(predictions == true_labels)\n",
    "        \n",
    "        return loss, accuracy\n",
    "\n",
    "    def _compute_loss(self, y_true, y_pred):\n",
    "        epsilon = 1e-12\n",
    "        y_pred = np.clip(y_pred, epsilon, 1. - epsilon)\n",
    "        return -np.mean(np.sum(y_true * np.log(y_pred), axis=1))"
   ]
  },
  {
   "cell_type": "code",
   "execution_count": 19,
   "metadata": {
    "collapsed": false,
    "jupyter": {
     "outputs_hidden": false
    },
    "pycharm": {
     "name": "#%%\n"
    },
    "scrolled": true
   },
   "outputs": [
    {
     "name": "stdout",
     "output_type": "stream",
     "text": [
      "\n",
      "Training with ReLU activation...\n",
      "Epoch 0: Train Loss=1.8998, Acc=0.2894 | Val Loss=1.9122, Acc=0.2792\n",
      "Epoch 1: Train Loss=1.8368, Acc=0.3180 | Val Loss=1.8566, Acc=0.3078\n",
      "Epoch 2: Train Loss=1.7436, Acc=0.3578 | Val Loss=1.7769, Acc=0.3433\n",
      "Epoch 3: Train Loss=1.7432, Acc=0.3608 | Val Loss=1.7870, Acc=0.3418\n",
      "Epoch 4: Train Loss=1.7022, Acc=0.3775 | Val Loss=1.7539, Acc=0.3551\n",
      "Epoch 5: Train Loss=1.7184, Acc=0.3752 | Val Loss=1.7708, Acc=0.3530\n",
      "Epoch 6: Train Loss=1.7548, Acc=0.3691 | Val Loss=1.8146, Acc=0.3465\n",
      "Epoch 7: Train Loss=1.7769, Acc=0.3659 | Val Loss=1.8375, Acc=0.3460\n",
      "Epoch 8: Train Loss=1.7314, Acc=0.3809 | Val Loss=1.7991, Acc=0.3619\n",
      "Epoch 9: Train Loss=1.7792, Acc=0.3614 | Val Loss=1.8547, Acc=0.3446\n",
      "Epoch 10: Train Loss=1.7666, Acc=0.3725 | Val Loss=1.8499, Acc=0.3514\n",
      "Epoch 11: Train Loss=1.7251, Acc=0.3871 | Val Loss=1.8120, Acc=0.3602\n",
      "Epoch 12: Train Loss=1.7161, Acc=0.3879 | Val Loss=1.8141, Acc=0.3606\n",
      "Epoch 13: Train Loss=1.7106, Acc=0.3857 | Val Loss=1.8094, Acc=0.3589\n",
      "Epoch 14: Train Loss=1.6941, Acc=0.3908 | Val Loss=1.8078, Acc=0.3636\n",
      "Epoch 15: Train Loss=1.6947, Acc=0.3955 | Val Loss=1.8062, Acc=0.3639\n",
      "Epoch 16: Train Loss=1.6683, Acc=0.4062 | Val Loss=1.7897, Acc=0.3774\n",
      "Epoch 17: Train Loss=1.6765, Acc=0.3994 | Val Loss=1.8086, Acc=0.3657\n",
      "Epoch 18: Train Loss=1.6711, Acc=0.4003 | Val Loss=1.8080, Acc=0.3629\n",
      "Epoch 19: Train Loss=1.6836, Acc=0.3945 | Val Loss=1.8183, Acc=0.3579\n",
      "Epoch 20: Train Loss=1.7261, Acc=0.3867 | Val Loss=1.8684, Acc=0.3506\n",
      "Epoch 21: Train Loss=1.6474, Acc=0.4041 | Val Loss=1.8022, Acc=0.3622\n",
      "Epoch 22: Train Loss=1.6418, Acc=0.4148 | Val Loss=1.7953, Acc=0.3748\n",
      "Epoch 23: Train Loss=1.6442, Acc=0.4178 | Val Loss=1.8032, Acc=0.3779\n",
      "Epoch 24: Train Loss=1.6751, Acc=0.4029 | Val Loss=1.8340, Acc=0.3605\n",
      "Epoch 25: Train Loss=1.6695, Acc=0.4080 | Val Loss=1.8321, Acc=0.3681\n",
      "Epoch 26: Train Loss=1.5899, Acc=0.4376 | Val Loss=1.7622, Acc=0.3939\n",
      "Epoch 27: Train Loss=1.6433, Acc=0.4162 | Val Loss=1.8147, Acc=0.3745\n",
      "Epoch 28: Train Loss=1.5879, Acc=0.4356 | Val Loss=1.7768, Acc=0.3900\n",
      "Epoch 29: Train Loss=1.5870, Acc=0.4373 | Val Loss=1.7763, Acc=0.3952\n",
      "Epoch 30: Train Loss=1.5775, Acc=0.4416 | Val Loss=1.7813, Acc=0.3931\n",
      "Epoch 31: Train Loss=1.5761, Acc=0.4390 | Val Loss=1.7852, Acc=0.3871\n",
      "Epoch 32: Train Loss=1.5517, Acc=0.4480 | Val Loss=1.7656, Acc=0.3954\n",
      "Epoch 33: Train Loss=1.5451, Acc=0.4486 | Val Loss=1.7629, Acc=0.3962\n",
      "Epoch 34: Train Loss=1.5431, Acc=0.4440 | Val Loss=1.7696, Acc=0.3892\n",
      "Epoch 35: Train Loss=1.5406, Acc=0.4501 | Val Loss=1.7782, Acc=0.3957\n",
      "Epoch 36: Train Loss=1.5405, Acc=0.4529 | Val Loss=1.7907, Acc=0.3965\n",
      "Epoch 37: Train Loss=1.5513, Acc=0.4501 | Val Loss=1.8082, Acc=0.3930\n",
      "Epoch 38: Train Loss=1.5499, Acc=0.4515 | Val Loss=1.7960, Acc=0.3962\n",
      "Epoch 39: Train Loss=1.5433, Acc=0.4512 | Val Loss=1.8008, Acc=0.3955\n",
      "Epoch 40: Train Loss=1.5220, Acc=0.4614 | Val Loss=1.7905, Acc=0.4042\n",
      "Epoch 41: Train Loss=1.5308, Acc=0.4595 | Val Loss=1.8105, Acc=0.4015\n",
      "Epoch 42: Train Loss=1.5210, Acc=0.4633 | Val Loss=1.8131, Acc=0.4062\n",
      "Epoch 43: Train Loss=1.5356, Acc=0.4529 | Val Loss=1.8167, Acc=0.3952\n",
      "Epoch 44: Train Loss=1.5354, Acc=0.4573 | Val Loss=1.8300, Acc=0.3952\n",
      "Epoch 45: Train Loss=1.4971, Acc=0.4713 | Val Loss=1.8080, Acc=0.4086\n",
      "Epoch 46: Train Loss=1.5032, Acc=0.4692 | Val Loss=1.8143, Acc=0.4038\n",
      "Epoch 47: Train Loss=1.4785, Acc=0.4754 | Val Loss=1.8012, Acc=0.4102\n",
      "Epoch 48: Train Loss=1.5166, Acc=0.4691 | Val Loss=1.8343, Acc=0.4011\n",
      "Epoch 49: Train Loss=1.4881, Acc=0.4724 | Val Loss=1.8194, Acc=0.4026\n",
      "\n",
      "Training with Sigmoid activation...\n",
      "Epoch 0: Train Loss=1.7713, Acc=0.3701 | Val Loss=1.7765, Acc=0.3668\n",
      "Epoch 1: Train Loss=1.6766, Acc=0.4038 | Val Loss=1.6936, Acc=0.3924\n",
      "Epoch 2: Train Loss=1.6146, Acc=0.4254 | Val Loss=1.6436, Acc=0.4087\n",
      "Epoch 3: Train Loss=1.5704, Acc=0.4416 | Val Loss=1.6108, Acc=0.4198\n",
      "Epoch 4: Train Loss=1.5357, Acc=0.4530 | Val Loss=1.5873, Acc=0.4275\n",
      "Epoch 5: Train Loss=1.5067, Acc=0.4624 | Val Loss=1.5698, Acc=0.4320\n",
      "Epoch 6: Train Loss=1.4811, Acc=0.4705 | Val Loss=1.5556, Acc=0.4395\n",
      "Epoch 7: Train Loss=1.4573, Acc=0.4785 | Val Loss=1.5433, Acc=0.4437\n",
      "Epoch 8: Train Loss=1.4334, Acc=0.4872 | Val Loss=1.5310, Acc=0.4510\n",
      "Epoch 9: Train Loss=1.4106, Acc=0.4955 | Val Loss=1.5202, Acc=0.4557\n",
      "Epoch 10: Train Loss=1.3890, Acc=0.5032 | Val Loss=1.5105, Acc=0.4606\n",
      "Epoch 11: Train Loss=1.3682, Acc=0.5111 | Val Loss=1.5014, Acc=0.4647\n",
      "Epoch 12: Train Loss=1.3490, Acc=0.5179 | Val Loss=1.4936, Acc=0.4698\n",
      "Epoch 13: Train Loss=1.3317, Acc=0.5245 | Val Loss=1.4875, Acc=0.4721\n",
      "Epoch 14: Train Loss=1.3169, Acc=0.5303 | Val Loss=1.4839, Acc=0.4746\n",
      "Epoch 15: Train Loss=1.3049, Acc=0.5347 | Val Loss=1.4831, Acc=0.4754\n",
      "Epoch 16: Train Loss=1.2931, Acc=0.5386 | Val Loss=1.4824, Acc=0.4783\n",
      "Epoch 17: Train Loss=1.2821, Acc=0.5417 | Val Loss=1.4823, Acc=0.4780\n",
      "Epoch 18: Train Loss=1.2706, Acc=0.5467 | Val Loss=1.4814, Acc=0.4808\n",
      "Epoch 19: Train Loss=1.2608, Acc=0.5498 | Val Loss=1.4817, Acc=0.4810\n",
      "Epoch 20: Train Loss=1.2513, Acc=0.5530 | Val Loss=1.4827, Acc=0.4814\n",
      "Epoch 21: Train Loss=1.2423, Acc=0.5565 | Val Loss=1.4837, Acc=0.4822\n",
      "Epoch 22: Train Loss=1.2336, Acc=0.5593 | Val Loss=1.4852, Acc=0.4818\n",
      "Epoch 23: Train Loss=1.2249, Acc=0.5622 | Val Loss=1.4872, Acc=0.4812\n",
      "Epoch 24: Train Loss=1.2163, Acc=0.5654 | Val Loss=1.4895, Acc=0.4828\n",
      "Epoch 25: Train Loss=1.2079, Acc=0.5685 | Val Loss=1.4923, Acc=0.4833\n",
      "Epoch 26: Train Loss=1.2000, Acc=0.5717 | Val Loss=1.4956, Acc=0.4836\n",
      "Epoch 27: Train Loss=1.1925, Acc=0.5743 | Val Loss=1.4993, Acc=0.4851\n",
      "Epoch 28: Train Loss=1.1858, Acc=0.5761 | Val Loss=1.5036, Acc=0.4852\n",
      "Epoch 29: Train Loss=1.1798, Acc=0.5776 | Val Loss=1.5084, Acc=0.4850\n",
      "Epoch 30: Train Loss=1.1745, Acc=0.5795 | Val Loss=1.5137, Acc=0.4846\n",
      "Epoch 31: Train Loss=1.1698, Acc=0.5814 | Val Loss=1.5194, Acc=0.4830\n",
      "Epoch 32: Train Loss=1.1655, Acc=0.5828 | Val Loss=1.5256, Acc=0.4840\n",
      "Epoch 33: Train Loss=1.1618, Acc=0.5844 | Val Loss=1.5321, Acc=0.4828\n",
      "Epoch 34: Train Loss=1.1585, Acc=0.5859 | Val Loss=1.5388, Acc=0.4812\n",
      "Epoch 35: Train Loss=1.1560, Acc=0.5874 | Val Loss=1.5464, Acc=0.4814\n",
      "Epoch 36: Train Loss=1.1550, Acc=0.5873 | Val Loss=1.5553, Acc=0.4808\n",
      "Epoch 37: Train Loss=1.1588, Acc=0.5878 | Val Loss=1.5677, Acc=0.4787\n",
      "Epoch 38: Train Loss=1.1585, Acc=0.5884 | Val Loss=1.5747, Acc=0.4783\n",
      "Epoch 39: Train Loss=1.1556, Acc=0.5894 | Val Loss=1.5812, Acc=0.4775\n",
      "Epoch 40: Train Loss=1.1529, Acc=0.5916 | Val Loss=1.5880, Acc=0.4771\n",
      "Epoch 41: Train Loss=1.1507, Acc=0.5934 | Val Loss=1.5953, Acc=0.4781\n",
      "Epoch 42: Train Loss=1.1491, Acc=0.5948 | Val Loss=1.6033, Acc=0.4765\n",
      "Epoch 43: Train Loss=1.1493, Acc=0.5952 | Val Loss=1.6138, Acc=0.4751\n",
      "Epoch 44: Train Loss=1.1491, Acc=0.5964 | Val Loss=1.6237, Acc=0.4740\n",
      "Epoch 45: Train Loss=1.1471, Acc=0.5976 | Val Loss=1.6318, Acc=0.4740\n",
      "Epoch 46: Train Loss=1.1455, Acc=0.5982 | Val Loss=1.6400, Acc=0.4749\n",
      "Epoch 47: Train Loss=1.1449, Acc=0.5991 | Val Loss=1.6492, Acc=0.4752\n",
      "Epoch 48: Train Loss=1.1447, Acc=0.5994 | Val Loss=1.6586, Acc=0.4734\n",
      "Epoch 49: Train Loss=1.1445, Acc=0.5996 | Val Loss=1.6680, Acc=0.4739\n",
      "\n",
      "Training with sgd optimizer...\n",
      "\n",
      "Training with momentum optimizer...\n",
      "\n",
      "Training with adam optimizer...\n"
     ]
    }
   ],
   "source": [
    "activations = {\n",
    "    'ReLU': ['relu', 'softmax'],\n",
    "    'Sigmoid': ['sigmoid', 'softmax']\n",
    "}\n",
    "\n",
    "results = {}\n",
    "for name, acts in activations.items():\n",
    "    print(f\"\\nTraining with {name} activation...\")\n",
    "    nn = NeuralNetwork([3072, 128, 10], acts, initializer='he')\n",
    "    history = nn.train(X_train, y_train, epochs=50, val_data=(X_test, y_test))\n",
    "    results[name] = history\n",
    "\n",
    "optimizers = ['sgd', 'momentum', 'adam']\n",
    "opt_results = {}\n",
    "for opt in optimizers:\n",
    "    print(f\"\\nTraining with {opt} optimizer...\")\n",
    "    nn = NeuralNetwork([3072, 128, 10], ['relu', 'softmax'], optimizer=opt)\n",
    "    history = nn.train(X_train, y_train, epochs=50)\n",
    "    opt_results[opt] = history"
   ]
  },
  {
   "cell_type": "code",
   "execution_count": null,
   "metadata": {},
   "outputs": [],
   "source": [
    "nn = NeuralNetwork(\n",
    "    layer_dims=[3072, 128, 64, 10],\n",
    "    activations=['relu', 'tanh', 'softmax'],\n",
    "    initializer='he',\n",
    "    optimizer='adam'\n",
    ")\n",
    "\n",
    "history = nn.train(X_train, y_train, epochs=100, batch_size=32)"
   ]
  },
  {
   "cell_type": "code",
   "execution_count": 20,
   "metadata": {},
   "outputs": [],
   "source": [
    "def plot_training_history(history):\n",
    "    plt.figure(figsize=(12, 4))\n",
    "    \n",
    "    plt.subplot(1, 2, 1)\n",
    "    plt.plot(history['train_loss'], label='Train Loss')\n",
    "    plt.plot(history['val_loss'], label='Validation Loss')\n",
    "    plt.title('Training and Validation Loss')\n",
    "    plt.xlabel('Epochs')\n",
    "    plt.ylabel('Loss')\n",
    "    plt.legend()\n",
    "    \n",
    "    plt.subplot(1, 2, 2)\n",
    "    plt.plot(history['train_acc'], label='Train Accuracy')\n",
    "    plt.plot(history['val_acc'], label='Validation Accuracy')\n",
    "    plt.title('Training and Validation Accuracy')\n",
    "    plt.xlabel('Epochs')\n",
    "    plt.ylabel('Accuracy')\n",
    "    plt.legend()\n",
    "    \n",
    "    plt.tight_layout()\n",
    "    plt.show()"
   ]
  },
  {
   "cell_type": "code",
   "execution_count": 21,
   "metadata": {},
   "outputs": [
    {
     "data": {
      "image/png": "[encoded data removed]",
      "text/plain": [
       "<Figure size 1200x400 with 2 Axes>"
      ]
     },
     "metadata": {},
     "output_type": "display_data"
    }
   ],
   "source": [
    "plot_training_history(history)"
   ]
  },
  {
   "cell_type": "code",
   "execution_count": null,
   "metadata": {},
   "outputs": [],
   "source": [
    "def plot_training_histories(histories, labels):\n",
    "    plt.figure(figsize=(14, 5))\n",
    "    \n",
    "    # Plot Loss\n",
    "    plt.subplot(1, 2, 1)\n",
    "    for history, label in zip(histories, labels):\n",
    "        plt.plot(history['train_loss'], label=f'{label} - Train Loss')\n",
    "        if 'val_loss' in history:\n",
    "            plt.plot(history['val_loss'], linestyle='--', label=f'{label} - Val Loss')\n",
    "    plt.title('Loss Comparison')\n",
    "    plt.xlabel('Epochs')\n",
    "    plt.ylabel('Loss')\n",
    "    plt.legend()\n",
    "    \n",
    "    # Plot Accuracy\n",
    "    plt.subplot(1, 2, 2)\n",
    "    for history, label in zip(histories, labels):\n",
    "        plt.plot(history['train_acc'], label=f'{label} - Train Acc')\n",
    "        if 'val_acc' in history:\n",
    "            plt.plot(history['val_acc'], linestyle='--', label=f'{label} - Val Acc')\n",
    "    plt.title('Accuracy Comparison')\n",
    "    plt.xlabel('Epochs')\n",
    "    plt.ylabel('Accuracy')\n",
    "    plt.legend()\n",
    "    \n",
    "    plt.tight_layout()\n",
    "    plt.show()\n"
   ]
  },
  {
   "cell_type": "code",
   "execution_count": null,
   "metadata": {},
   "outputs": [],
   "source": []
  }
 ],
 "metadata": {
  "colab": {
   "provenance": []
  },
  "kernelspec": {
   "display_name": "Python 3 (ipykernel)",
   "language": "python",
   "name": "python3"
  },
  "language_info": {
   "codemirror_mode": {
    "name": "ipython",
    "version": 3
   },
   "file_extension": ".py",
   "mimetype": "text/x-python",
   "name": "python",
   "nbconvert_exporter": "python",
   "pygments_lexer": "ipython3",
   "version": "3.9.6"
  }
 },
 "nbformat": 4,
 "nbformat_minor": 4
}
